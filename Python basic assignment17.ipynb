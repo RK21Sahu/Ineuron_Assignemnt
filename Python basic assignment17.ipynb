{
 "cells": [
  {
   "cell_type": "code",
   "execution_count": null,
   "id": "34b26f99",
   "metadata": {},
   "outputs": [],
   "source": [
    "1. Assign the value 7 to the variable guess_me. Then, write the conditional tests (if, else, and elif) to print the string\n",
    "'too low' if guess_me is less than 7, 'too high' if greater than 7, and 'just right' if equal to 7.\n",
    "Ans - \n",
    "guess_me=7\n",
    "\n",
    "if guess_me < 7:\n",
    "    print(\"too low\")\n",
    "elif guess_me > 7:\n",
    "    print(\"too high\")\n",
    "else:\n",
    "    print(\"just right\")\n"
   ]
  },
  {
   "cell_type": "code",
   "execution_count": null,
   "id": "6734909a",
   "metadata": {},
   "outputs": [],
   "source": [
    "2. Assign the value 7 to the variable guess_me and the value 1 to the variable start. Write a while loop that compares \n",
    "start with guess_me. Print too low if start is less than guess me. If start equals guess_me, print 'found it!' \n",
    "and exit the loop. If start is greater than guess_me, print 'oops' and exit the loop. Increment start at the end of\n",
    "the loop.\n",
    "ans - \n",
    "\n",
    "start = 1\n",
    "guess_me=7\n",
    "\n",
    "while (True):\n",
    "    if start < guess_me:\n",
    "        print(\"too low\")\n",
    "    elif start == guess_me:\n",
    "        print(\"found it!\")\n",
    "        break\n",
    "    else:\n",
    "        print(\"oops\")\n",
    "        break\n",
    "    start = start + 1\n"
   ]
  },
  {
   "cell_type": "code",
   "execution_count": null,
   "id": "69d2a4af",
   "metadata": {},
   "outputs": [],
   "source": [
    "3. Print the following values of the list [3, 2, 1, 0] using a for loop.\n",
    "Ans - \n",
    "list1=  [3, 2, 1, 0]\n",
    "for i in list1:\n",
    "    print(i)\n",
    "    "
   ]
  },
  {
   "cell_type": "code",
   "execution_count": null,
   "id": "aab2b2fb",
   "metadata": {},
   "outputs": [],
   "source": [
    "4. Use a list comprehension to make a list of the even numbers in range(10)\n",
    "ANS - \n",
    "even_numbers = [i for i in range(2,10,2)]\n",
    "print(even_numbers)\n",
    "\n",
    "output- [2, 4, 6, 8]\n"
   ]
  },
  {
   "cell_type": "code",
   "execution_count": null,
   "id": "904d1cd5",
   "metadata": {},
   "outputs": [],
   "source": [
    "5. Use a dictionary comprehension to create the dictionary squares. Use range(10) to return the keys, and use the square \n",
    "of each key as its value.\n",
    "Ans :\n",
    "squares = { k: k**2 for k in range(10)}  \n",
    "print(squares)\n",
    "output - {0: 0, 1: 1, 2: 4, 3: 9, 4: 16, 5: 25, 6: 36, 7: 49, 8: 64, 9: 81}\n"
   ]
  },
  {
   "cell_type": "code",
   "execution_count": null,
   "id": "4fee6787",
   "metadata": {},
   "outputs": [],
   "source": [
    "6. Construct the set odd from the odd numbers in the range using a set comprehension (10).\n",
    "Ans - \n",
    "odd = {i for i in range(10) if i % 2 != 0}\n",
    "print(odd)\n",
    "\n",
    "Output - {1, 3, 5, 7, 9}"
   ]
  },
  {
   "cell_type": "code",
   "execution_count": null,
   "id": "becee2a6",
   "metadata": {},
   "outputs": [],
   "source": [
    "7. Use a generator comprehension to return the string 'Got ' and a number for the numbers in range(10). Iterate through \n",
    "this by using a for loop.\n",
    "Ans \n",
    "gen = ('Got'.join(str(i) for i in (range(10))))\n",
    "for i in gen:\n",
    "    print(i, end = ' ')"
   ]
  },
  {
   "cell_type": "code",
   "execution_count": null,
   "id": "47e6f033",
   "metadata": {},
   "outputs": [],
   "source": [
    "8. Define a function called good that returns the list ['Harry', 'Ron', 'Hermione'].\n",
    "Ans - \n",
    "def good():\n",
    "    list1=['Harry', 'Ron', 'Hermione']\n",
    "    return list1\n",
    "\n",
    "good()"
   ]
  },
  {
   "cell_type": "code",
   "execution_count": null,
   "id": "a50fd6df",
   "metadata": {},
   "outputs": [],
   "source": [
    "9. Define a generator function called get_odds that returns the odd numbers from range(10). Use a for loop to find and \n",
    "print the third value returned.\n",
    "Ans -\n",
    "\n",
    "def get_odds():\n",
    "    list1=[]\n",
    "    for i in range(10):\n",
    "        if i % 2 !=0:\n",
    "            list1.append(i)\n",
    "    return list1\n",
    "\n",
    "got_list = get_odds()\n",
    "\n",
    "for i in got_list:\n",
    "    if got_list.index(i)==2:\n",
    "        print(i)\n",
    "    \n",
    "    "
   ]
  },
  {
   "cell_type": "code",
   "execution_count": null,
   "id": "ec50a730",
   "metadata": {},
   "outputs": [],
   "source": [
    "10. Define an exception called OopsException. Raise this exception to see what happens. Then write the code to catch this \n",
    "exception and print 'Caught an oops'.\n",
    "\n",
    "Ans - \n",
    "\n",
    "try:\n",
    "    num=1\n",
    "    if num < 2:\n",
    "        raise OopsException(\"number is less 2\")\n",
    "\n",
    "except:\n",
    "    print('Caught an oops')"
   ]
  },
  {
   "cell_type": "code",
   "execution_count": null,
   "id": "44806dde",
   "metadata": {},
   "outputs": [],
   "source": [
    "11. Use zip() to make a dictionary called movies that pairs these lists: titles = ['Creature of Habit', 'Crewel Fate'] and\n",
    "    plots = ['A nun turns into a monster', 'A haunted yarn shop'].\n",
    "\n",
    "Ans - \n",
    "movies=dict(zip(titles,plots))"
   ]
  },
  {
   "cell_type": "code",
   "execution_count": null,
   "id": "571fb0eb",
   "metadata": {},
   "outputs": [],
   "source": []
  },
  {
   "cell_type": "code",
   "execution_count": null,
   "id": "dc0b4ef7",
   "metadata": {},
   "outputs": [],
   "source": []
  }
 ],
 "metadata": {
  "kernelspec": {
   "display_name": "Python 3",
   "language": "python",
   "name": "python3"
  },
  "language_info": {
   "codemirror_mode": {
    "name": "ipython",
    "version": 3
   },
   "file_extension": ".py",
   "mimetype": "text/x-python",
   "name": "python",
   "nbconvert_exporter": "python",
   "pygments_lexer": "ipython3",
   "version": "3.8.8"
  }
 },
 "nbformat": 4,
 "nbformat_minor": 5
}
