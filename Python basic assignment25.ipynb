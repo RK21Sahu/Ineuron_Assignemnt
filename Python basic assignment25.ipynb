{
 "cells": [
  {
   "cell_type": "code",
   "execution_count": null,
   "id": "371256da",
   "metadata": {},
   "outputs": [],
   "source": [
    "1) . What is the difference between enclosing a list comprehension in square brackets and parentheses?\n",
    "Ans - \n",
    "If we perform the list comprehension enclosed with square bracket the it will be for list and if we will do the same in \n",
    "parentheses the it will be for tuple."
   ]
  },
  {
   "cell_type": "code",
   "execution_count": null,
   "id": "63412abc",
   "metadata": {},
   "outputs": [],
   "source": [
    "2) What is the relationship between generators and iterators?\n",
    "Ans - \n",
    "A generator in python makes use of the 'yield' keyword. A python iterator doesn't. Python generator saves the states of \n",
    "the local variables every time 'yield' pauses the loop in python. An iterator does not make use of local variables, \n",
    "all it needs is iterable to iterate on.\n",
    "Hence generators will save memory compare to iterators."
   ]
  },
  {
   "cell_type": "code",
   "execution_count": null,
   "id": "50595250",
   "metadata": {},
   "outputs": [],
   "source": [
    "3) What are the signs that a function is a generator function?\n",
    "Ans - \n",
    "If the body of a def contains yield, the function automatically becomes a generator function."
   ]
  },
  {
   "cell_type": "code",
   "execution_count": null,
   "id": "9805affd",
   "metadata": {},
   "outputs": [],
   "source": [
    "4) What is the purpose of a yield statement?\n",
    "Ans - \n",
    "yield in Python can be used like the return statement in a function. When done so, the function instead of returning the \n",
    "output, it returns a generator that can be iterated upon. You can then iterate through the generator to extract items."
   ]
  },
  {
   "cell_type": "code",
   "execution_count": null,
   "id": "445feab6",
   "metadata": {},
   "outputs": [],
   "source": [
    "5) What is the relationship between map calls and list comprehensions? Make a comparison and contrast between the two.\n",
    "Ans -\n",
    "Both of them can perfom similar task.\n",
    "both map and list comprehensions perfomr the mentioned task for each element of the list.\n",
    "It will be very difficult to perform a complex custom task in list comprehensions. However we cna write a\n",
    "complex custom fuinction and pass the function in map as a argument to perfom it for all element of the list."
   ]
  },
  {
   "cell_type": "code",
   "execution_count": null,
   "id": "c3c6fc26",
   "metadata": {},
   "outputs": [],
   "source": []
  },
  {
   "cell_type": "code",
   "execution_count": null,
   "id": "110b225b",
   "metadata": {},
   "outputs": [],
   "source": []
  }
 ],
 "metadata": {
  "kernelspec": {
   "display_name": "Python 3",
   "language": "python",
   "name": "python3"
  },
  "language_info": {
   "codemirror_mode": {
    "name": "ipython",
    "version": 3
   },
   "file_extension": ".py",
   "mimetype": "text/x-python",
   "name": "python",
   "nbconvert_exporter": "python",
   "pygments_lexer": "ipython3",
   "version": "3.8.8"
  }
 },
 "nbformat": 4,
 "nbformat_minor": 5
}
