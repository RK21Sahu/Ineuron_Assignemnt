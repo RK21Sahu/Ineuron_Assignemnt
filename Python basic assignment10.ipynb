{
 "cells": [
  {
   "cell_type": "code",
   "execution_count": null,
   "id": "279e56c5",
   "metadata": {},
   "outputs": [],
   "source": [
    "1. How do you distinguish between shutil.copy() and shutil.copytree()?\n",
    "Ans - shutil. copy() - this method will copy a single file from source to destination.\n",
    "However shutil. copytree() method will copy a folder and the every elements contained in that folder along with the \n",
    "sub folders to the destination from source.\n"
   ]
  },
  {
   "cell_type": "code",
   "execution_count": null,
   "id": "fc0d645c",
   "metadata": {},
   "outputs": [],
   "source": [
    "2. What function is used to rename files??\n",
    "Ans - Os.rename() method is used to rename the file.\n",
    "example: \n",
    "\n",
    "Os.rename(source, destination)\n",
    "source =  path and file name of the existing file\n",
    "destination =  path and file name of the new file that you are willing to rename into."
   ]
  },
  {
   "cell_type": "code",
   "execution_count": null,
   "id": "ecf97c45",
   "metadata": {},
   "outputs": [],
   "source": [
    "3. What is the difference between the delete functions in the send2trash and shutil modules?\n",
    "Ans - \n",
    "\n",
    "delete functions - remove() and rmdir() functions used to delete files and folders in os module.\n",
    "send2trash() -  this method will send the files to trash or recycle bin instead of permanently deleting them.\n",
    "shutil modules - This module offers several functions to deal with operations on files and their collections. This is \n",
    "somewhat similar as os module with some additional functions to deal with the collection files.\n"
   ]
  },
  {
   "cell_type": "code",
   "execution_count": null,
   "id": "0906d74d",
   "metadata": {},
   "outputs": [],
   "source": [
    "4.ZipFile objects have a close() method just like File objects’ close() method. What ZipFile method is equivalent to \n",
    "File objects’ open() method?\n",
    "Ans - there is Zipfile method eqivelent to open() method of file object and it is ZipFile().\n",
    "example:\n",
    "with ZipFile(filename, 'r')  \n",
    "    "
   ]
  },
  {
   "cell_type": "code",
   "execution_count": null,
   "id": "66f36d99",
   "metadata": {},
   "outputs": [],
   "source": [
    "5. Create a programme that searches a folder tree for files with a certain file extension (such as .pdf or .jpg). \n",
    "Copy these files from whatever location they are in to a new folder.\n",
    "\n",
    "Ans - \n",
    "\n",
    "import os\n",
    "import shutil \n",
    "class copypdfjpgfiles():\n",
    "    def __init__(self,src,dest):\n",
    "        self.src=src\n",
    "        self.dest=dest\n",
    "    def searchfiles(self):\n",
    "        dist_list =os.listdir(\"D:\\\\Python\\\\test1\")\n",
    "        for i in dist_list:\n",
    "            if i.endswith((\".pdf\",\".jpg\")):\n",
    "                pathfile=self.src+'\\\\'+i\n",
    "                #print(pathfile)\n",
    "                shutil.copy(pathfile, self.dest)\n",
    "\n",
    "obj=copypdfjpgfiles(\"D:\\\\Python\\\\test1\",\"D:\\\\Python\\\\test2\")\n",
    "obj.searchfiles()\n"
   ]
  },
  {
   "cell_type": "code",
   "execution_count": null,
   "id": "ce20c89a",
   "metadata": {},
   "outputs": [],
   "source": []
  },
  {
   "cell_type": "code",
   "execution_count": null,
   "id": "e83a1aeb",
   "metadata": {},
   "outputs": [],
   "source": []
  },
  {
   "cell_type": "code",
   "execution_count": null,
   "id": "a966c6ac",
   "metadata": {},
   "outputs": [],
   "source": []
  }
 ],
 "metadata": {
  "kernelspec": {
   "display_name": "Python 3",
   "language": "python",
   "name": "python3"
  },
  "language_info": {
   "codemirror_mode": {
    "name": "ipython",
    "version": 3
   },
   "file_extension": ".py",
   "mimetype": "text/x-python",
   "name": "python",
   "nbconvert_exporter": "python",
   "pygments_lexer": "ipython3",
   "version": "3.8.8"
  }
 },
 "nbformat": 4,
 "nbformat_minor": 5
}
