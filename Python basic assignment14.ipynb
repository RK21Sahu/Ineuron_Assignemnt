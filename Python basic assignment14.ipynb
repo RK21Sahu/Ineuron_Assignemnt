{
 "cells": [
  {
   "cell_type": "code",
   "execution_count": null,
   "id": "99b8cf82",
   "metadata": {},
   "outputs": [],
   "source": [
    "1. What does RGBA stand for?\n",
    "Ans - RGBA stands for Red-Green-Blue-Alpha."
   ]
  },
  {
   "cell_type": "code",
   "execution_count": null,
   "id": "a69a37bb",
   "metadata": {},
   "outputs": [],
   "source": [
    "2. From the Pillow module, how do you get the RGBA value of any images?\n",
    "Ans - import pillow module then create a object refference of open image with help of open() method.\n",
    "Then convert in to RGBA with help of convert() method.\n",
    "\n",
    "example: \n",
    "from PIL import Image\n",
    "img = Image.open(‘image.png’)\n",
    "rgba = img.convert(“RGBA”)\n",
    "\n"
   ]
  },
  {
   "cell_type": "code",
   "execution_count": null,
   "id": "dcfc71e0",
   "metadata": {},
   "outputs": [],
   "source": [
    "3. What is a box tuple, and how does it work?\n",
    "Ans - The box.tuple submodule provides read-only access for the tuple userdata type.\n",
    "It allows, for a single tuple. There were method to do the operation such as selective retrieval of the field contents, \n",
    "retrieval of information about size, iteration over all the fields."
   ]
  },
  {
   "cell_type": "code",
   "execution_count": null,
   "id": "c5dab29c",
   "metadata": {},
   "outputs": [],
   "source": [
    "4. Use your image and load in notebook then, How can you find out the width and height of an Image object?\n",
    "Ans - We can ind the height and width of a image by calling height and width with help of image open object.\n",
    "example: \n",
    "from PIL import Image\n",
    "img = Image.open('D:\\\\Python\\\\test1\\\\IMG_1511.JPG')\n",
    "rgba = img.convert(\"RGBA\")\n",
    "\n",
    "width = img.width\n",
    "height = img.height\n",
    "\n",
    "print(\"The height of the image is: \", height)\n",
    "print(\"The width of the image is: \", width)\n"
   ]
  },
  {
   "cell_type": "code",
   "execution_count": null,
   "id": "9d16b172",
   "metadata": {},
   "outputs": [],
   "source": [
    "5. What method would you call to get Image object for a 100×100 image, excluding the lower-left quarter of it?\n",
    "Ans - we can use the arraye method of array and can slice the image.\n",
    "example:\n",
    "img = Image.open('D:\\\\Python\\\\test1\\\\IMG_1511.JPG').convert('RGB')\n",
    "img_arr = np.array(img)\n",
    "width = img.width/2\n",
    "height = img.height/2\n",
    "height1 = img.height\n",
    "img_arr[int(height):int(height1), 0:int(width)] = (0, 0, 0)\n",
    "img = Image.fromarray(img_arr)\n",
    "img.show()\n"
   ]
  },
  {
   "cell_type": "code",
   "execution_count": null,
   "id": "d01d6e04",
   "metadata": {},
   "outputs": [],
   "source": [
    "6. After making changes to an Image object, how could you save it as an image file?\n",
    "Ans - We have save the image with save()method.\n",
    "example:\n",
    "img.save('D:\\\\Python\\\\test1\\\\IMGchk.JPG')\n"
   ]
  },
  {
   "cell_type": "code",
   "execution_count": null,
   "id": "330d0818",
   "metadata": {},
   "outputs": [],
   "source": [
    "7. What module contains Pillow’s shape-drawing code?\n",
    "Ans - ImageDraw module contains Pillow’s shape-drawing code."
   ]
  },
  {
   "cell_type": "code",
   "execution_count": null,
   "id": "33a86542",
   "metadata": {},
   "outputs": [],
   "source": [
    "8. Image objects do not have drawing methods. What kind of object does? How do you get this kind of object?\n",
    "Ans - object from Draw() method from ImageDraw module have drawing methods.\n",
    "We can get this kind of object as mentioned below.\n",
    "\n",
    "example:\n",
    "from PIL import Image, ImageDraw\n",
    "img = Image.open('dss.png')\n",
    "draw = ImageDraw.Draw(img)\n"
   ]
  },
  {
   "cell_type": "code",
   "execution_count": null,
   "id": "8868c46f",
   "metadata": {},
   "outputs": [],
   "source": [
    "\n"
   ]
  },
  {
   "cell_type": "code",
   "execution_count": null,
   "id": "07f65e42",
   "metadata": {},
   "outputs": [],
   "source": []
  }
 ],
 "metadata": {
  "kernelspec": {
   "display_name": "Python 3",
   "language": "python",
   "name": "python3"
  },
  "language_info": {
   "codemirror_mode": {
    "name": "ipython",
    "version": 3
   },
   "file_extension": ".py",
   "mimetype": "text/x-python",
   "name": "python",
   "nbconvert_exporter": "python",
   "pygments_lexer": "ipython3",
   "version": "3.8.8"
  }
 },
 "nbformat": 4,
 "nbformat_minor": 5
}
