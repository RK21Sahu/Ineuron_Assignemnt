{
 "cells": [
  {
   "cell_type": "code",
   "execution_count": 7,
   "id": "c8bc49fc",
   "metadata": {},
   "outputs": [
    {
     "data": {
      "text/plain": [
       "15"
      ]
     },
     "execution_count": 7,
     "metadata": {},
     "output_type": "execute_result"
    }
   ],
   "source": [
    "#1 . you have to write a fun which will take string and return a len of it without using a inbuilt fun len\n",
    "\n",
    "def user_len(lnth):\n",
    "    \"\"\"this function will take a string input and will give the output as the lenght of the string.\"\"\"\n",
    "    cnt = 0\n",
    "    for i in lnth:\n",
    "        cnt = cnt + 1\n",
    "    return cnt\n",
    "\n",
    "user_len(\"afadsfasdgsdgsg\")"
   ]
  },
  {
   "cell_type": "code",
   "execution_count": 29,
   "id": "a2db0982",
   "metadata": {},
   "outputs": [
    {
     "name": "stdout",
     "output_type": "stream",
     "text": [
      "0\n",
      "1\n",
      "2\n",
      "3\n",
      "4\n"
     ]
    }
   ],
   "source": [
    "#2 . write a fun which will be able to print an index of all premitive element which you will pass \n",
    "\n",
    "def index_print(elmnt):\n",
    "    \"\"\"this function will take a premitive element as input and will give the output as all the index of the element\"\"\"\n",
    "    if type(elmnt)==str or type(elmnt)==list or type(elmnt)==tuple or type(elmnt)==dict:\n",
    "        cnt = 0\n",
    "        for i in elmnt:\n",
    "            print(cnt)\n",
    "            cnt = cnt + 1\n",
    "    else:\n",
    "        print(\"please enter string, list tuple or dictionary only\")\n",
    "index_print((1,2,3,45,66))"
   ]
  },
  {
   "cell_type": "code",
   "execution_count": 54,
   "id": "9a9403b0",
   "metadata": {},
   "outputs": [
    {
     "name": "stdout",
     "output_type": "stream",
     "text": [
      "[14, 10, 4, 45, 34, 2, 34, 46, 6, 7, 47, 32, 2, 44, 55, 'sudh', 2, 45.22]\n"
     ]
    }
   ],
   "source": [
    "#3 . Write a fun which will take input as a dict and give me out as a list of all the values even in case of 2 level nesting it should work . \n",
    "\n",
    "def dict_values(delmnt):\n",
    "    \"\"\"this function will take a dictionary as input and will provide all the values from the dictionary as output\"\"\"\n",
    "    if type(delmnt)==dict:\n",
    "        dlist = []\n",
    "        for i in delmnt.values():\n",
    "            #print(type(i))\n",
    "            if type(i)==int or type(i)==str or type(i)==float:\n",
    "                dlist.append(i)\n",
    "            if type(i)==list or type(i)==tuple or type(i)==set:\n",
    "                dlist.extend(i)\n",
    "            if type(i)==dict:\n",
    "                dlist.extend(i.values())            \n",
    "        print(dlist)\n",
    "    else:\n",
    "        print(\"you have not entered a dictionary\")\n",
    "\n",
    "d1 = {\"ineuron\":{\"a\":14,\"b\":10,\"c\":4},\"course\":{\"d\":45,\"e\":34,\"f\":2},\"g\":34,\"h\":[46,6,7],\"i\":(47,32,2),\"ee\":{55,44},\"k\":\"sudh\",1:2,2:45.22}\n",
    "dict_values(d1)    "
   ]
  },
  {
   "cell_type": "code",
   "execution_count": 58,
   "id": "f2413095",
   "metadata": {},
   "outputs": [
    {
     "name": "stdout",
     "output_type": "stream",
     "text": [
      "40\n"
     ]
    }
   ],
   "source": [
    "#4 . write a fun which will take another function as an input and return me an output \n",
    "\n",
    "def sqnum(num):\n",
    "    \"\"\"this function will take a intiger as input and will return its square\"\"\"\n",
    "    return num**2\n",
    "\n",
    "def mul10(m10):\n",
    "    \"\"\"this function will take a intiger as input and will print its multipliucation with 10\"\"\"\n",
    "    print(m10*10)\n",
    "\n",
    "mul10(sqnum(2))\n"
   ]
  },
  {
   "cell_type": "code",
   "execution_count": 16,
   "id": "f8f864ae",
   "metadata": {},
   "outputs": [
    {
     "name": "stdout",
     "output_type": "stream",
     "text": [
      "enter a list only\n",
      "dsds123rk311\n"
     ]
    }
   ],
   "source": [
    "#5. write a function whihc will take multiple list as a input and give me concatnation of all the element as and output\n",
    "\n",
    "def lict_Conc(a):\n",
    "    \"\"\"This function will take one list as input and will concatinate all its element\"\"\"\n",
    "    con_str=\"\"\n",
    "    if type(a)!=list:\n",
    "        print(\"enter a list only\")\n",
    "    else:\n",
    "        for i in a:\n",
    "            con_str = con_str + str(i)\n",
    "    return con_str\n",
    "\n",
    "def mul_con(a1,a2):\n",
    "    \"\"\"This function will take two list as input and will call the lict_Conc function and concatinate the return string from lict_Conc function\"\"\"\n",
    "    fnl_str=\"\"\n",
    "    var=\"var\"\n",
    "    #cnt=int(input(\"enter the number of list you are willing to enter\"))\n",
    "    #for i in range(cnt):\n",
    "        #var+str(i)=list(input(\"enter the a list\"))\n",
    "        #fnl_str = fnl_str + lict_Conc(var+str(i))\n",
    "        #print(str(var+str(i)))\n",
    "    fnl_str = fnl_str + lict_Conc(a1)\n",
    "    fnl_str = fnl_str + lict_Conc(a2)\n",
    "    print(fnl_str)\n",
    "\n",
    "mul_con([\"dsds\",123,\"rk\",311],\"ssadd\")\n",
    "    \n",
    "\n"
   ]
  },
  {
   "cell_type": "code",
   "execution_count": 10,
   "id": "590f098b",
   "metadata": {},
   "outputs": [
    {
     "name": "stdout",
     "output_type": "stream",
     "text": [
      "Index of  5  is  3\n",
      "Index of  5  is  7\n",
      "Index of  5  is  9\n",
      "Index of  5  is  10\n"
     ]
    }
   ],
   "source": [
    "#6 . write a function which will be able to take a list as an input return an index of each element \n",
    "#like a inbuilt index function but even if we have repetative element it should return index \n",
    "\n",
    "def print_index(l1,a):\n",
    "    \"\"\"This function will give you a index of each element of the list\"\"\"\n",
    "    cnt=0\n",
    "    if type(l1)==list:\n",
    "        for i in l1:\n",
    "            if i==a:\n",
    "                print(\"Index of \",a, \" is \", cnt)\n",
    "            cnt=cnt+1\n",
    "    else:\n",
    "        print(\"enter a list only\")\n",
    "                \n",
    "\n",
    "print_index([1,2,3,5,6,4,56,5,56,5,5,6],5)"
   ]
  },
  {
   "cell_type": "code",
   "execution_count": 4,
   "id": "a3aa7cc2",
   "metadata": {},
   "outputs": [
    {
     "name": "stdout",
     "output_type": "stream",
     "text": [
      "files pressent in the  D://Python directory are: ['anaconda3', 'Python function assignemnt.txt', 'Python.docx', 'working']\n"
     ]
    }
   ],
   "source": [
    "#7 . Write a function which will whould return list of all the file name from a directory . \n",
    "\n",
    "def dir_list(a):\n",
    "    \"\"\"This is give the list of file name in the directory\"\"\"\n",
    "    import os\n",
    "    file_names = os.listdir(a)\n",
    "    print(\"files pressent in the \", a ,\"directory are:\", file_names)\n",
    "\n",
    "dir_list(\"D://Python\")\n"
   ]
  },
  {
   "cell_type": "code",
   "execution_count": 4,
   "id": "0530b0ec",
   "metadata": {},
   "outputs": [
    {
     "name": "stdout",
     "output_type": "stream",
     "text": [
      "Help on function dir_list in module __main__:\n",
      "\n",
      "dir_list()\n",
      "    This is give the list of file name in the directory\n",
      "\n"
     ]
    }
   ],
   "source": [
    "help(dir_list)"
   ]
  },
  {
   "cell_type": "code",
   "execution_count": 10,
   "id": "49eeb539",
   "metadata": {},
   "outputs": [
    {
     "name": "stdout",
     "output_type": "stream",
     "text": [
      "AMD64\n",
      "10.0.18362\n",
      "uname_result(system='Windows', node='DESKTOP-PENDN0N', release='10', version='10.0.18362', machine='AMD64', processor='Intel64 Family 6 Model 69 Stepping 1, GenuineIntel')\n",
      "Windows\n"
     ]
    }
   ],
   "source": [
    "#8  . write a function which will be able to show your system configuration . \n",
    "\n",
    "def sys_config():\n",
    "    \"\"\"This finction will give you the system configuration\"\"\"\n",
    "    import platform\n",
    "    print(platform.machine())\n",
    "    print(platform.version())\n",
    "    print(platform.uname())\n",
    "    print(platform.system())\n",
    "\n",
    "sys_config()"
   ]
  },
  {
   "cell_type": "code",
   "execution_count": 13,
   "id": "e56a626a",
   "metadata": {},
   "outputs": [
    {
     "name": "stdout",
     "output_type": "stream",
     "text": [
      "2022-01-25 16:37:50.698197\n"
     ]
    }
   ],
   "source": [
    "#9 . write a function which will be able to show date and time  . \n",
    "\n",
    "def date_time():\n",
    "    \"\"\"This function will show the current system date and time\"\"\"\n",
    "    import datetime\n",
    "    curr_time=datetime.datetime.now()\n",
    "    print(curr_time)\n",
    "\n",
    "date_time()"
   ]
  },
  {
   "cell_type": "code",
   "execution_count": 14,
   "id": "69a1b762",
   "metadata": {},
   "outputs": [
    {
     "ename": "ModuleNotFoundError",
     "evalue": "No module named 'cv2'",
     "output_type": "error",
     "traceback": [
      "\u001b[1;31m---------------------------------------------------------------------------\u001b[0m",
      "\u001b[1;31mModuleNotFoundError\u001b[0m                       Traceback (most recent call last)",
      "\u001b[1;32m<ipython-input-14-50e9117e7162>\u001b[0m in \u001b[0;36m<module>\u001b[1;34m\u001b[0m\n\u001b[0;32m      7\u001b[0m     \u001b[0mcv2\u001b[0m\u001b[1;33m.\u001b[0m\u001b[0mimshow\u001b[0m\u001b[1;33m(\u001b[0m\u001b[1;34m\"image\"\u001b[0m\u001b[1;33m,\u001b[0m \u001b[0mimg\u001b[0m\u001b[1;33m)\u001b[0m\u001b[1;33m\u001b[0m\u001b[1;33m\u001b[0m\u001b[0m\n\u001b[0;32m      8\u001b[0m \u001b[1;33m\u001b[0m\u001b[0m\n\u001b[1;32m----> 9\u001b[1;33m \u001b[0mshow_img\u001b[0m\u001b[1;33m(\u001b[0m\u001b[1;33m)\u001b[0m\u001b[1;33m\u001b[0m\u001b[1;33m\u001b[0m\u001b[0m\n\u001b[0m",
      "\u001b[1;32m<ipython-input-14-50e9117e7162>\u001b[0m in \u001b[0;36mshow_img\u001b[1;34m()\u001b[0m\n\u001b[0;32m      3\u001b[0m \u001b[1;32mdef\u001b[0m \u001b[0mshow_img\u001b[0m\u001b[1;33m(\u001b[0m\u001b[1;33m)\u001b[0m\u001b[1;33m:\u001b[0m\u001b[1;33m\u001b[0m\u001b[1;33m\u001b[0m\u001b[0m\n\u001b[0;32m      4\u001b[0m     \u001b[1;34m\"\"\"This function will show the input image in output\"\"\"\u001b[0m\u001b[1;33m\u001b[0m\u001b[1;33m\u001b[0m\u001b[0m\n\u001b[1;32m----> 5\u001b[1;33m     \u001b[1;32mimport\u001b[0m \u001b[0mcv2\u001b[0m\u001b[1;33m\u001b[0m\u001b[1;33m\u001b[0m\u001b[0m\n\u001b[0m\u001b[0;32m      6\u001b[0m     \u001b[0mimg\u001b[0m\u001b[1;33m=\u001b[0m \u001b[0mcv2\u001b[0m\u001b[1;33m.\u001b[0m\u001b[0mimread\u001b[0m\u001b[1;33m(\u001b[0m\u001b[1;34m\"D://Family//RK.jpg\"\u001b[0m\u001b[1;33m)\u001b[0m\u001b[1;33m\u001b[0m\u001b[1;33m\u001b[0m\u001b[0m\n\u001b[0;32m      7\u001b[0m     \u001b[0mcv2\u001b[0m\u001b[1;33m.\u001b[0m\u001b[0mimshow\u001b[0m\u001b[1;33m(\u001b[0m\u001b[1;34m\"image\"\u001b[0m\u001b[1;33m,\u001b[0m \u001b[0mimg\u001b[0m\u001b[1;33m)\u001b[0m\u001b[1;33m\u001b[0m\u001b[1;33m\u001b[0m\u001b[0m\n",
      "\u001b[1;31mModuleNotFoundError\u001b[0m: No module named 'cv2'"
     ]
    }
   ],
   "source": [
    "#10 . write a function whihc will be able to read a image file and show it to you .\n",
    "\n",
    "def show_img():\n",
    "    \"\"\"This function will show the input image in output\"\"\"\n",
    "    import cv2\n",
    "    img= cv2.imread(\"D://Family//RK.jpg\")\n",
    "    cv2.imshow(\"image\", img)\n",
    "    \n",
    "show_img()"
   ]
  },
  {
   "cell_type": "code",
   "execution_count": 2,
   "id": "65f5f230",
   "metadata": {},
   "outputs": [
    {
     "ename": "ModuleNotFoundError",
     "evalue": "No module named 'cv2'",
     "output_type": "error",
     "traceback": [
      "\u001b[1;31m---------------------------------------------------------------------------\u001b[0m",
      "\u001b[1;31mModuleNotFoundError\u001b[0m                       Traceback (most recent call last)",
      "\u001b[1;32m<ipython-input-2-30be05f6cc12>\u001b[0m in \u001b[0;36m<module>\u001b[1;34m\u001b[0m\n\u001b[0;32m     12\u001b[0m                 \u001b[0mcv2\u001b[0m\u001b[1;33m.\u001b[0m\u001b[0mimshow\u001b[0m\u001b[1;33m(\u001b[0m\u001b[1;34m'Frame'\u001b[0m\u001b[1;33m,\u001b[0m \u001b[0mframe\u001b[0m\u001b[1;33m)\u001b[0m\u001b[1;33m\u001b[0m\u001b[1;33m\u001b[0m\u001b[0m\n\u001b[0;32m     13\u001b[0m \u001b[1;33m\u001b[0m\u001b[0m\n\u001b[1;32m---> 14\u001b[1;33m \u001b[0mplay_video\u001b[0m\u001b[1;33m(\u001b[0m\u001b[1;33m)\u001b[0m\u001b[1;33m\u001b[0m\u001b[1;33m\u001b[0m\u001b[0m\n\u001b[0m",
      "\u001b[1;32m<ipython-input-2-30be05f6cc12>\u001b[0m in \u001b[0;36mplay_video\u001b[1;34m()\u001b[0m\n\u001b[0;32m      3\u001b[0m \u001b[1;32mdef\u001b[0m \u001b[0mplay_video\u001b[0m\u001b[1;33m(\u001b[0m\u001b[1;33m)\u001b[0m\u001b[1;33m:\u001b[0m\u001b[1;33m\u001b[0m\u001b[1;33m\u001b[0m\u001b[0m\n\u001b[0;32m      4\u001b[0m     \u001b[1;34m\"\"\"this function will play a video\"\"\"\u001b[0m\u001b[1;33m\u001b[0m\u001b[1;33m\u001b[0m\u001b[0m\n\u001b[1;32m----> 5\u001b[1;33m     \u001b[1;32mimport\u001b[0m \u001b[0mcv2\u001b[0m\u001b[1;33m\u001b[0m\u001b[1;33m\u001b[0m\u001b[0m\n\u001b[0m\u001b[0;32m      6\u001b[0m     \u001b[0mvid1\u001b[0m\u001b[1;33m=\u001b[0m\u001b[0mVIdeoCapture\u001b[0m\u001b[1;33m(\u001b[0m\u001b[1;34m'Desktop//DILBAR.mp4'\u001b[0m\u001b[1;33m)\u001b[0m\u001b[1;33m\u001b[0m\u001b[1;33m\u001b[0m\u001b[0m\n\u001b[0;32m      7\u001b[0m     \u001b[1;32mif\u001b[0m \u001b[0mvid1\u001b[0m\u001b[1;33m.\u001b[0m\u001b[0misopen\u001b[0m\u001b[1;33m(\u001b[0m\u001b[1;33m)\u001b[0m\u001b[1;33m==\u001b[0m\u001b[1;32mFalse\u001b[0m\u001b[1;33m:\u001b[0m\u001b[1;33m\u001b[0m\u001b[1;33m\u001b[0m\u001b[0m\n",
      "\u001b[1;31mModuleNotFoundError\u001b[0m: No module named 'cv2'"
     ]
    }
   ],
   "source": [
    "#11 . write a function which can read video file and play for you . \n",
    "\n",
    "def play_video():\n",
    "    \"\"\"this function will play a video\"\"\"\n",
    "    import cv2\n",
    "    vid1=VIdeoCapture('Desktop//DILBAR.mp4')\n",
    "    if vid1.isopen()==False:\n",
    "        print(\"unable to open video file\")\n",
    "        while(vid1.isopened()):\n",
    "            ret, frame=vid1.read()\n",
    "            if ret==True:\n",
    "                cv2.imshow('Frame', frame)\n",
    "\n",
    "play_video()\n"
   ]
  },
  {
   "cell_type": "code",
   "execution_count": 4,
   "id": "c8f5044c",
   "metadata": {},
   "outputs": [
    {
     "ename": "PermissionError",
     "evalue": "[Errno 13] Permission denied: 'D:/Python/test2'",
     "output_type": "error",
     "traceback": [
      "\u001b[1;31m---------------------------------------------------------------------------\u001b[0m",
      "\u001b[1;31mPermissionError\u001b[0m                           Traceback (most recent call last)",
      "\u001b[1;32m<ipython-input-4-60c30d665326>\u001b[0m in \u001b[0;36m<module>\u001b[1;34m\u001b[0m\n\u001b[0;32m      9\u001b[0m     \u001b[0mshutil\u001b[0m\u001b[1;33m.\u001b[0m\u001b[0mcopyfile\u001b[0m\u001b[1;33m(\u001b[0m\u001b[0msrc\u001b[0m\u001b[1;33m,\u001b[0m \u001b[0mcopyat\u001b[0m\u001b[1;33m)\u001b[0m\u001b[1;33m\u001b[0m\u001b[1;33m\u001b[0m\u001b[0m\n\u001b[0;32m     10\u001b[0m \u001b[1;33m\u001b[0m\u001b[0m\n\u001b[1;32m---> 11\u001b[1;33m \u001b[0mcopy_file\u001b[0m\u001b[1;33m(\u001b[0m\u001b[1;33m)\u001b[0m\u001b[1;33m\u001b[0m\u001b[1;33m\u001b[0m\u001b[0m\n\u001b[0m",
      "\u001b[1;32m<ipython-input-4-60c30d665326>\u001b[0m in \u001b[0;36mcopy_file\u001b[1;34m()\u001b[0m\n\u001b[0;32m      7\u001b[0m     \u001b[0msrc\u001b[0m\u001b[1;33m=\u001b[0m\u001b[1;34m\"D:/Python/test1/Python.docx\"\u001b[0m\u001b[1;33m\u001b[0m\u001b[1;33m\u001b[0m\u001b[0m\n\u001b[0;32m      8\u001b[0m     \u001b[0mcopyat\u001b[0m\u001b[1;33m=\u001b[0m\u001b[1;34m\"D:/Python/test2\"\u001b[0m\u001b[1;33m\u001b[0m\u001b[1;33m\u001b[0m\u001b[0m\n\u001b[1;32m----> 9\u001b[1;33m     \u001b[0mshutil\u001b[0m\u001b[1;33m.\u001b[0m\u001b[0mcopyfile\u001b[0m\u001b[1;33m(\u001b[0m\u001b[0msrc\u001b[0m\u001b[1;33m,\u001b[0m \u001b[0mcopyat\u001b[0m\u001b[1;33m)\u001b[0m\u001b[1;33m\u001b[0m\u001b[1;33m\u001b[0m\u001b[0m\n\u001b[0m\u001b[0;32m     10\u001b[0m \u001b[1;33m\u001b[0m\u001b[0m\n\u001b[0;32m     11\u001b[0m \u001b[0mcopy_file\u001b[0m\u001b[1;33m(\u001b[0m\u001b[1;33m)\u001b[0m\u001b[1;33m\u001b[0m\u001b[1;33m\u001b[0m\u001b[0m\n",
      "\u001b[1;32mD:\\Python\\anaconda3\\lib\\shutil.py\u001b[0m in \u001b[0;36mcopyfile\u001b[1;34m(src, dst, follow_symlinks)\u001b[0m\n\u001b[0;32m    262\u001b[0m         \u001b[0mos\u001b[0m\u001b[1;33m.\u001b[0m\u001b[0msymlink\u001b[0m\u001b[1;33m(\u001b[0m\u001b[0mos\u001b[0m\u001b[1;33m.\u001b[0m\u001b[0mreadlink\u001b[0m\u001b[1;33m(\u001b[0m\u001b[0msrc\u001b[0m\u001b[1;33m)\u001b[0m\u001b[1;33m,\u001b[0m \u001b[0mdst\u001b[0m\u001b[1;33m)\u001b[0m\u001b[1;33m\u001b[0m\u001b[1;33m\u001b[0m\u001b[0m\n\u001b[0;32m    263\u001b[0m     \u001b[1;32melse\u001b[0m\u001b[1;33m:\u001b[0m\u001b[1;33m\u001b[0m\u001b[1;33m\u001b[0m\u001b[0m\n\u001b[1;32m--> 264\u001b[1;33m         \u001b[1;32mwith\u001b[0m \u001b[0mopen\u001b[0m\u001b[1;33m(\u001b[0m\u001b[0msrc\u001b[0m\u001b[1;33m,\u001b[0m \u001b[1;34m'rb'\u001b[0m\u001b[1;33m)\u001b[0m \u001b[1;32mas\u001b[0m \u001b[0mfsrc\u001b[0m\u001b[1;33m,\u001b[0m \u001b[0mopen\u001b[0m\u001b[1;33m(\u001b[0m\u001b[0mdst\u001b[0m\u001b[1;33m,\u001b[0m \u001b[1;34m'wb'\u001b[0m\u001b[1;33m)\u001b[0m \u001b[1;32mas\u001b[0m \u001b[0mfdst\u001b[0m\u001b[1;33m:\u001b[0m\u001b[1;33m\u001b[0m\u001b[1;33m\u001b[0m\u001b[0m\n\u001b[0m\u001b[0;32m    265\u001b[0m             \u001b[1;31m# macOS\u001b[0m\u001b[1;33m\u001b[0m\u001b[1;33m\u001b[0m\u001b[1;33m\u001b[0m\u001b[0m\n\u001b[0;32m    266\u001b[0m             \u001b[1;32mif\u001b[0m \u001b[0m_HAS_FCOPYFILE\u001b[0m\u001b[1;33m:\u001b[0m\u001b[1;33m\u001b[0m\u001b[1;33m\u001b[0m\u001b[0m\n",
      "\u001b[1;31mPermissionError\u001b[0m: [Errno 13] Permission denied: 'D:/Python/test2'"
     ]
    }
   ],
   "source": [
    "#12  . write a function whihc can move a file from one directory to another directory . \n",
    "\n",
    "def copy_file():\n",
    "    \"\"\"this function will copy one file from one dir to another dir\"\"\"\n",
    "    import os\n",
    "    import shutil\n",
    "    src=\"D:/Python/test1/Python.docx\"\n",
    "    copyat=\"D:/Python/test2\"\n",
    "    shutil.copyfile(src, copyat)\n",
    "\n",
    "copy_file()"
   ]
  },
  {
   "cell_type": "code",
   "execution_count": null,
   "id": "ee826b9a",
   "metadata": {},
   "outputs": [],
   "source": [
    "#13 . write a function which will be able to shutdonw your system . \n",
    "#14 . write a function whihc will be able to access your mail . \n",
    "#15 . write a func bywhcih i can send a mail to anyone \n",
    "#16. write a func to read a complete PDf file . \n",
    "#17. write a function to read a word file . \n",
    "#18 . write a function which can help you to filter only word file from a directory . \n",
    "#19 . write a function by which you can print an ip address of your system . \n",
    "#20 . write a function by which you will be able to append two PDF files . \n"
   ]
  },
  {
   "cell_type": "code",
   "execution_count": null,
   "id": "60bde97d",
   "metadata": {},
   "outputs": [],
   "source": []
  },
  {
   "cell_type": "code",
   "execution_count": null,
   "id": "1d5a088b",
   "metadata": {},
   "outputs": [],
   "source": []
  },
  {
   "cell_type": "code",
   "execution_count": null,
   "id": "5411b1cd",
   "metadata": {},
   "outputs": [],
   "source": []
  },
  {
   "cell_type": "code",
   "execution_count": null,
   "id": "7809a976",
   "metadata": {},
   "outputs": [],
   "source": []
  }
 ],
 "metadata": {
  "kernelspec": {
   "display_name": "Python 3",
   "language": "python",
   "name": "python3"
  },
  "language_info": {
   "codemirror_mode": {
    "name": "ipython",
    "version": 3
   },
   "file_extension": ".py",
   "mimetype": "text/x-python",
   "name": "python",
   "nbconvert_exporter": "python",
   "pygments_lexer": "ipython3",
   "version": "3.8.8"
  }
 },
 "nbformat": 4,
 "nbformat_minor": 5
}
