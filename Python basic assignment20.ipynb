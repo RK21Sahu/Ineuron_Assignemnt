{
 "cells": [
  {
   "cell_type": "code",
   "execution_count": null,
   "id": "1426b09f",
   "metadata": {},
   "outputs": [],
   "source": [
    "1. Set the variable test1 to the string 'This is a test of the emergency text system,' and save test1 to a\n",
    "file named test.txt.\n",
    "\n",
    "Ans - \n",
    "import os\n",
    "test1 = 'This is a test of the emergency text system'\n",
    "f = open(\"test.txt\",\"w\")\n",
    "f.write(test1)"
   ]
  },
  {
   "cell_type": "code",
   "execution_count": null,
   "id": "3e881a8f",
   "metadata": {},
   "outputs": [],
   "source": [
    "2. Read the contents of the file test.txt into the variable test2. Is there a difference between test 1 and test 2?\n",
    "Ans - \n",
    "f = open(\"test.txt\",\"r\")\n",
    "test2 = f.read()\n",
    "\n",
    "no there is no difference in the test1 and test2."
   ]
  },
  {
   "cell_type": "code",
   "execution_count": null,
   "id": "12c8c2b5",
   "metadata": {},
   "outputs": [],
   "source": [
    "3. Create a CSV file called books.csv by using these lines:\n",
    "title,author,year\n",
    "The Weirdstone of Brisingamen,Alan Garner,1960\n",
    "Perdido Street Station,China Miéville,2000\n",
    "Thud!,Terry Pratchett,2005\n",
    "The Spellman Files,Lisa Lutz,2007\n",
    "Small Gods,Terry Pratchett,1992\n",
    "\n",
    "Ans - \n",
    "import csv\n",
    "fields = [\"title\",\"author\",\"year\"]\n",
    "rows = [[\"The Weirdstone of Brisingamen\",\"Alan Garner\",1960],\n",
    "[\"Perdido Street Station\",\"China Miéville\",2000],\n",
    "[\"Thud!\",\"Terry Pratchett\",2005],\n",
    "[\"The Spellman Files\",\"Lisa Lutz\",2007],\n",
    "[\"Small Gods\",\"Terry Pratchett\",1992]]\n",
    "with open(\"books.csv\",\"w\") as csvfile:\n",
    "    csvwriter = csv.writer(csvfile)\n",
    "    csvwriter.writerow(fields)\n",
    "    csvwriter.writerows(rows)"
   ]
  },
  {
   "cell_type": "code",
   "execution_count": null,
   "id": "6bdcd4af",
   "metadata": {},
   "outputs": [],
   "source": [
    "4. Use the sqlite3 module to create a SQLite database called books.db, and a table called books with these fields: \n",
    "    title (text), author (text), and year (integer).\n",
    "\n",
    "Ans - \n",
    "import sqlite3\n",
    "db = sqlite3.connect(\"books.db\")\n",
    "c = db.cursor()\n",
    "c.execute('create table books(title text, author text, year int)')"
   ]
  },
  {
   "cell_type": "code",
   "execution_count": null,
   "id": "a2751314",
   "metadata": {},
   "outputs": [],
   "source": [
    "5. Read books.csv and insert its data into the book table.\n",
    "aNS - \n",
    "f = open(\"books.csv\")\n",
    "rows=csv.reader(f)\n",
    "moveh = next(rows)\n",
    "rows = tuple(rows)\n",
    "c.executemany(\"INSERT INTO books VALUES (?, ?, ?)\", rows)"
   ]
  },
  {
   "cell_type": "code",
   "execution_count": null,
   "id": "59516d4e",
   "metadata": {},
   "outputs": [],
   "source": [
    "6. Select and print the title column from the book table in alphabetical order.\n",
    "\n",
    "Ans - \n",
    "c.execute(\"select title from books order by title \")"
   ]
  },
  {
   "cell_type": "code",
   "execution_count": null,
   "id": "f2b19670",
   "metadata": {},
   "outputs": [],
   "source": [
    "7. From the book table, select and print all columns in the order of publication.\n",
    "Ans- \n",
    "c.execute(\"select * from books order by year \")"
   ]
  },
  {
   "cell_type": "code",
   "execution_count": null,
   "id": "e8609ec6",
   "metadata": {},
   "outputs": [],
   "source": [
    "8. Use the sqlalchemy module to connect to the sqlite3 database books.db that you just made in exercise 6.\n",
    "Ans -\n",
    "\n",
    "import sqlalchemy as db\n",
    "engine = db.create_engine('sqlite:///books.db')\n",
    "connection = engine.connect()\n",
    "metadata = db.MetaData()\n",
    "census = db.Table('books', metadata, autoload=True, autoload_with=engine)\n",
    "print(census.columns.keys())"
   ]
  },
  {
   "cell_type": "code",
   "execution_count": null,
   "id": "cb848841",
   "metadata": {},
   "outputs": [],
   "source": [
    "9. Install the Redis server and the Python redis library (pip install redis) on your computer. Create a Redis hash \n",
    "called test with the fields count (1) and name ('Fester Bestertester'). Print all the fields for test.\n",
    "ans -\n",
    "import redis\n",
    "connection = redis.Redis()\n",
    "connection.delete('test')\n",
    "connection.hmset('test', {\"count\":1,\"name\":\"Fester Bestertester\"})\n",
    "connection.hgetall('test')"
   ]
  },
  {
   "cell_type": "code",
   "execution_count": null,
   "id": "66864cbc",
   "metadata": {},
   "outputs": [],
   "source": [
    "10. Increment the count field of test and print it.\n",
    "Ans -\n",
    "import redis\n",
    "connection = redis.Redis()\n",
    "connection.delete('test')\n",
    "connection.hmset('test', {\"count\":1,\"name\":\"Fester Bestertester\"})\n",
    "connection.hincrby('test','count',1)\n",
    "connection.hget('test','count')"
   ]
  },
  {
   "cell_type": "code",
   "execution_count": null,
   "id": "31208a5c",
   "metadata": {},
   "outputs": [],
   "source": []
  },
  {
   "cell_type": "code",
   "execution_count": null,
   "id": "224fcb41",
   "metadata": {},
   "outputs": [],
   "source": []
  },
  {
   "cell_type": "code",
   "execution_count": null,
   "id": "663457cd",
   "metadata": {},
   "outputs": [],
   "source": []
  }
 ],
 "metadata": {
  "kernelspec": {
   "display_name": "Python 3",
   "language": "python",
   "name": "python3"
  },
  "language_info": {
   "codemirror_mode": {
    "name": "ipython",
    "version": 3
   },
   "file_extension": ".py",
   "mimetype": "text/x-python",
   "name": "python",
   "nbconvert_exporter": "python",
   "pygments_lexer": "ipython3",
   "version": "3.8.8"
  }
 },
 "nbformat": 4,
 "nbformat_minor": 5
}
