{
 "cells": [
  {
   "cell_type": "code",
   "execution_count": null,
   "id": "3ecd60d1",
   "metadata": {},
   "outputs": [],
   "source": [
    "1. What does an empty dictionary's code look like?\n",
    "Ans - Empty dictionary will be look like just two parenthesis i.e. {}\n",
    "example: d1= {}\n"
   ]
  },
  {
   "cell_type": "code",
   "execution_count": null,
   "id": "8eaaaae6",
   "metadata": {},
   "outputs": [],
   "source": [
    "2. What is the value of a dictionary value with the key 'foo' and the value 42?\n",
    "Ans - The value of a dictionary value will be a list with one element as 42.\n",
    "d2={\"foo\":42}\n",
    "d2.values()\n",
    "\n",
    "output = dict_values([42])"
   ]
  },
  {
   "cell_type": "code",
   "execution_count": null,
   "id": "33d317d6",
   "metadata": {},
   "outputs": [],
   "source": [
    "3. What is the most significant distinction between a dictionary and a list?\n",
    "Ans - The significant distinction between the dictionary and a list is the representation of the data store and parse \n",
    "through the data.\n",
    "in a list each element stored separated by comma and can be accessed by the index which will start from 0 sequentially.\n",
    "However in a dictionary elements are stored in a key value paired separated by comma  and you can access any value of the \n",
    "dictionary through its keys.\n"
   ]
  },
  {
   "cell_type": "code",
   "execution_count": null,
   "id": "2cd0651c",
   "metadata": {},
   "outputs": [],
   "source": [
    "4. What happens if you try to access spam['foo'] if spam is {'bar': 100}?\n",
    "Ans - it will give you a key error. Since there is no key named 'foo' pressent in the span dictionary."
   ]
  },
  {
   "cell_type": "code",
   "execution_count": null,
   "id": "05607c86",
   "metadata": {},
   "outputs": [],
   "source": [
    "5. If a dictionary is stored in spam, what is the difference between the expressions 'cat' in spam and 'cat' in \n",
    "spam.keys()?\n",
    "Ans - 'cat' in spam will check if 'cat' is pressent in the spam dictionary or not.\n",
    "'cat' in spam.keys() will check if 'cat' is pressent in the spam dictionary. Hence there is no diffeence.\n"
   ]
  },
  {
   "cell_type": "code",
   "execution_count": null,
   "id": "e23f0d62",
   "metadata": {},
   "outputs": [],
   "source": [
    "6. If a dictionary is stored in spam, what is the difference between the expressions 'cat' in spam and 'cat' in \n",
    "spam.values()?\n",
    "ans - 'cat' in spam will check if 'cat' is pressent in the spam dictionary or not. However 'cat' in spam.values() will\n",
    "check if there is any value pressent in the dictionary as 'cat'."
   ]
  },
  {
   "cell_type": "code",
   "execution_count": null,
   "id": "e9ed0ab3",
   "metadata": {},
   "outputs": [],
   "source": [
    "7. What is a shortcut for the following code?\n",
    "if 'color' not in spam:\n",
    "spam['color'] = 'black'\n",
    "\n",
    "Ans - we can use the setdefault() method. if there is already a key pressent as 'color' then it won't change its original\n",
    "value. however it there in't then it will create one pair where key will be 'color' and value will be 'black'\n",
    "\n",
    "spam.setdefault(\"color\", \"black\")"
   ]
  },
  {
   "cell_type": "code",
   "execution_count": null,
   "id": "036b7d11",
   "metadata": {},
   "outputs": [],
   "source": [
    "8. How do you \"pretty print\" dictionary values using which module and function?\n",
    "\n",
    "Ans - we can import the pprint module for \"pretty print\" . Also the function is pprint.\n",
    "\n",
    "import pprint\n",
    "pprint.pprint()"
   ]
  },
  {
   "cell_type": "code",
   "execution_count": null,
   "id": "73ec69c3",
   "metadata": {},
   "outputs": [],
   "source": []
  },
  {
   "cell_type": "code",
   "execution_count": null,
   "id": "0196d733",
   "metadata": {},
   "outputs": [],
   "source": []
  }
 ],
 "metadata": {
  "kernelspec": {
   "display_name": "Python 3",
   "language": "python",
   "name": "python3"
  },
  "language_info": {
   "codemirror_mode": {
    "name": "ipython",
    "version": 3
   },
   "file_extension": ".py",
   "mimetype": "text/x-python",
   "name": "python",
   "nbconvert_exporter": "python",
   "pygments_lexer": "ipython3",
   "version": "3.8.8"
  }
 },
 "nbformat": 4,
 "nbformat_minor": 5
}
