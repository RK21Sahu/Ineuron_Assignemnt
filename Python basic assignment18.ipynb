{
 "cells": [
  {
   "cell_type": "code",
   "execution_count": null,
   "id": "abe28298",
   "metadata": {},
   "outputs": [],
   "source": [
    "1. Create a zoo.py file first. Define the hours() function, which prints the string 'Open 9-5 daily'.\n",
    "Then, use the interactive interpreter to import the zoo module and call its hours() function.\n",
    "\n",
    "Ans -\n",
    "In zoo.py file-\n",
    "\n",
    "def hours():\n",
    "    print(\"Open 9-5 daily\")\n",
    "\n",
    "In main.py file\n",
    "\n",
    "import zoo\n",
    "\n",
    "zoo.hours()\n",
    "\n",
    "the output will be-\n",
    "Open 9-5 daily\n"
   ]
  },
  {
   "cell_type": "code",
   "execution_count": null,
   "id": "69de1f65",
   "metadata": {},
   "outputs": [],
   "source": [
    "2. In the interactive interpreter, import the zoo module as menagerie and call its hours() function.\n",
    "\n",
    "Ans - in the main.py file - \n",
    "import zoo as menagerie\n",
    "menagerie.hours()\n",
    "\n",
    "the output will be-\n",
    "Open 9-5 daily"
   ]
  },
  {
   "cell_type": "code",
   "execution_count": null,
   "id": "e1e9c0d0",
   "metadata": {},
   "outputs": [],
   "source": [
    "3. Using the interpreter, explicitly import and call the hours() function from zoo.\n",
    "Ans -\n",
    "in pkg1 folder or package zoo file - \n",
    "def hours():\n",
    "    print(\"Open 9-5 daily\")\n",
    "    \n",
    "in pkg2 folder mainpkg2 file - \n",
    "\n",
    "from pkg1 import zoo\n",
    "zoo.hours()\n",
    "\n",
    "the output will be-\n",
    "Open 9-5 daily"
   ]
  },
  {
   "cell_type": "code",
   "execution_count": null,
   "id": "829b1dbe",
   "metadata": {},
   "outputs": [],
   "source": [
    "4. Import the hours() function as info and call it.\n",
    "\n",
    "Ans - \n",
    "\n",
    "from zoo import hours as info\n",
    "\n",
    "info()"
   ]
  },
  {
   "cell_type": "code",
   "execution_count": null,
   "id": "297d0b1e",
   "metadata": {},
   "outputs": [],
   "source": [
    "5. Create a plain dictionary with the key-value pairs 'a': 1, 'b': 2, and 'c': 3, and print it out.\n",
    "Ans - \n",
    "d = {'a': 1, 'b': 2, 'c': 3}\n",
    "print(d)"
   ]
  },
  {
   "cell_type": "code",
   "execution_count": null,
   "id": "3d6134cf",
   "metadata": {},
   "outputs": [],
   "source": [
    "6.Make an OrderedDict called fancy from the same pairs listed in 5 and print it. Did it print in the same order as plain?\n",
    "\n",
    "Ans - \n",
    "from collections import OrderedDict\n",
    "\n",
    "fancy = OrderedDict()\n",
    "fancy['a'] = 1\n",
    "fancy['b'] = 2\n",
    "fancy['c'] = 3\n",
    "\n",
    "for key, value in fancy.items():\n",
    "    print(key, value)\n",
    "\n",
    "Frankly I have not see any difference after i run the both dictionary in jupiter noteboo. However as per the \n",
    "deinfation the OrderedDict will trace and will print the dictionary as the same order it was inputed. even though value got\n",
    "changed the position of the key will be intact.\n"
   ]
  },
  {
   "cell_type": "code",
   "execution_count": null,
   "id": "c752d411",
   "metadata": {},
   "outputs": [],
   "source": [
    "7. Make a default dictionary called dict_of_lists and pass it the argument list. Make the list dict_of_lists['a'] \n",
    "and append the value 'something for a' to it in one assignment. Print dict_of_lists['a'].\n",
    "\n",
    "Ans - \n",
    "dict_of_lists = {}\n",
    "dict_of_lists['a']=[]\n",
    "dict_of_lists['a'].append(\"something for a\")\n",
    "\n",
    "dict_of_lists\n",
    "\n",
    "output -\n",
    "{'a': ['something for a']}"
   ]
  },
  {
   "cell_type": "code",
   "execution_count": null,
   "id": "70dcdbd5",
   "metadata": {},
   "outputs": [],
   "source": []
  }
 ],
 "metadata": {
  "kernelspec": {
   "display_name": "Python 3",
   "language": "python",
   "name": "python3"
  },
  "language_info": {
   "codemirror_mode": {
    "name": "ipython",
    "version": 3
   },
   "file_extension": ".py",
   "mimetype": "text/x-python",
   "name": "python",
   "nbconvert_exporter": "python",
   "pygments_lexer": "ipython3",
   "version": "3.8.8"
  }
 },
 "nbformat": 4,
 "nbformat_minor": 5
}
