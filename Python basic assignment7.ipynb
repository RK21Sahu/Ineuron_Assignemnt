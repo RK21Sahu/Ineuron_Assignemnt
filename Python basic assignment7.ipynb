{
 "cells": [
  {
   "cell_type": "code",
   "execution_count": null,
   "id": "b55908e1",
   "metadata": {},
   "outputs": [],
   "source": [
    "1. What is the name of the feature responsible for generating Regex objects?\n",
    "Ans - Python has a built-in package called re, which can be used to work with Regular Expressions."
   ]
  },
  {
   "cell_type": "code",
   "execution_count": null,
   "id": "dc6ec115",
   "metadata": {},
   "outputs": [],
   "source": [
    "2. Why do raw strings often appear in Regex objects?\n",
    "Ans - Raw strings allows characters that would otherwise trigger specific formatting to read as their literal\n",
    "value instead. Raw string the characters like backslash will action into specific task combined with \n",
    "different characters. it will be helpful in partten matching."
   ]
  },
  {
   "cell_type": "code",
   "execution_count": null,
   "id": "95b6a32b",
   "metadata": {},
   "outputs": [],
   "source": [
    "3. What is the return value of the search() method?\n",
    "Ans- re.search() method either returns None if the pattern doesn’t match, or\n",
    "a re.MatchObject that contains information about the matching part of the string with the index details.\n",
    "\n",
    "example: \n",
    "pattern = re.compile(r'Mr\\.?\\s[A-Z]')\n",
    "matches = pattern.search(test_to_search)\n",
    "print(matcch)\n",
    "\n",
    "<re.Match object; span=(214, 219), match='Mr. T'>"
   ]
  },
  {
   "cell_type": "code",
   "execution_count": null,
   "id": "d63126a1",
   "metadata": {},
   "outputs": [],
   "source": [
    "4. From a Match item, how do you get the actual strings that match the pattern?\n",
    "Ans - \n",
    "We have to import the regex module with import re.\n",
    "then we have to create a Regex object with the re.compile() function. \n",
    "Pass the string you want to search into the Regex object’s search() method. if this returns a Match object then\n",
    "call the Match object’s group() method to return a string of the actual matched text.\n",
    "\n",
    "In stead of sreach() method you can use findall() ot finditer() method as well. \n"
   ]
  },
  {
   "cell_type": "code",
   "execution_count": null,
   "id": "ce04769e",
   "metadata": {},
   "outputs": [],
   "source": [
    "5. In the regex which created from the r'(\\d\\d\\d)-(\\d\\d\\d-\\d\\d\\d\\d)', what does group zero cover? Group 2? Group 1?\n",
    "Ans - \n",
    "Group zero will written the entire match partten.\n",
    "Group 1 will write the match partten with in first enclosed paranthesis.\n",
    "Group 2 will write the match partten with in second enclosed paranthesis.\n",
    "\n",
    "example: \n",
    "import re\n",
    "phoneNumRegex = re.compile(r'(\\d\\d\\d)-(\\d\\d\\d-\\d\\d\\d\\d)')\n",
    "mo = phoneNumRegex.search('My number is 123-456-7890.')\n",
    "print(mo.group(0))\n",
    "print(mo.group(2))\n",
    "print(mo.group(1))\n",
    "\n",
    "output - \n",
    "\n",
    "123-456-7890\n",
    "456-7890\n",
    "123"
   ]
  },
  {
   "cell_type": "code",
   "execution_count": null,
   "id": "91286406",
   "metadata": {},
   "outputs": [],
   "source": [
    "6. In standard expression syntax, parentheses and intervals have distinct meanings. How can you tell a regex that you\n",
    "want it to fit real parentheses and periods?\n",
    "Ans - parentheses and periods have special meaning in regular expression of the python. If we want to use the real parentheses\n",
    "and periods in the regex module then we have use to escape charater i.e. backslash before it.\n",
    "\n",
    "import re\n",
    "phoneNumRegex = re.compile(r'(\\(\\d\\d\\d\\)\\.)-(\\d\\d\\d-\\d\\d\\d\\d)')\n",
    "mo = phoneNumRegex.search('My number is (123).-456-7890.')\n",
    "print(mo.group(1))\n",
    " output - (123).\n"
   ]
  },
  {
   "cell_type": "code",
   "execution_count": null,
   "id": "f512080c",
   "metadata": {},
   "outputs": [],
   "source": [
    "7. The findall() method returns a string list or a list of string tuples. What causes it to return one of the two options?\n",
    "Ans - findall() method return all matches of pattern in string as a list of strings those are not overlapping within \n",
    "themselves. Since this pattern matching functions used string slicing operation internally to get the string for pattern \n",
    "Matching its returns are list of string, as tuples are non mutable.\n"
   ]
  },
  {
   "cell_type": "code",
   "execution_count": null,
   "id": "25ab278f",
   "metadata": {},
   "outputs": [],
   "source": [
    "8. In standard expressions, what does the | character mean?\n",
    "Ans - | character is the or sysmbol in standard expressions.\n",
    "\n",
    "\n",
    "example: \n",
    "True | True = True\n",
    "True | False = True\n",
    "False | True = True\n",
    "    "
   ]
  },
  {
   "cell_type": "code",
   "execution_count": null,
   "id": "6c87fca2",
   "metadata": {},
   "outputs": [],
   "source": [
    "9. In regular expressions, what does the character stand for?\n",
    "Ans- \n",
    "In the regular expression | mean a either or.\n",
    "\n",
    "pattern = re.compile(r'(Mr\\.|Mrs\\.)')\n",
    "matches = pattern.findall(test_to_search)\n",
    "for matcch in matches:\n",
    "    print(matcch)\n",
    "\n",
    "Mr.\n",
    "Mrs.\n",
    "Mr."
   ]
  },
  {
   "cell_type": "code",
   "execution_count": null,
   "id": "fd762f0b",
   "metadata": {},
   "outputs": [],
   "source": [
    "10.In regular expressions, what is the difference between the + and * characters?\n",
    "Ans - \n",
    "In regular expressions + means 1 or more match.\n",
    "In regular expressions 0 means 0 or more match.\n",
    "\n",
    "pattern = re.compile(r'Mr\\.\\s[A-Z]\\w+')\n",
    "matches = pattern.findall(test_to_search)\n",
    "for matcch in matches:\n",
    "    print(matcch)\n",
    "\n",
    "output - \n",
    "Mr. Schafer\n",
    "\n",
    "pattern = re.compile(r'Mr\\.\\s[A-Z]\\w*')\n",
    "matches = pattern.findall(test_to_search)\n",
    "for matcch in matches:\n",
    "    print(matcch)\n",
    "\n",
    "output - \n",
    "Mr. Schafer\n",
    "Mr. T"
   ]
  },
  {
   "cell_type": "code",
   "execution_count": null,
   "id": "a0d223ea",
   "metadata": {},
   "outputs": [],
   "source": [
    "11. What is the difference between {4} and {4,5} in regular expression?\n",
    "Ans -{4} means the exact number charaters anmd {4,5} means minimum 4 and maximum 5 characters \n",
    "\n"
   ]
  },
  {
   "cell_type": "code",
   "execution_count": null,
   "id": "7bdc3055",
   "metadata": {},
   "outputs": [],
   "source": [
    "12. What do you mean by the \\d, \\w, and \\s shorthand character classes signify in regular expressions?\n",
    "Ans - \n",
    "These combination of characters have special meaning in regular expression\n",
    "\\d - Digit (0-9)\n",
    "\\w - Word charater (a-z, A-Z, 0-9, _)\n",
    "\\s - Whitespace (space, Tab, new line)"
   ]
  },
  {
   "cell_type": "code",
   "execution_count": null,
   "id": "2fa0857c",
   "metadata": {},
   "outputs": [],
   "source": [
    "13. What do means by \\D, \\W, and \\S shorthand character classes signify in regular expressions?\n",
    "Ans - \n",
    "These generally negetion of above characters.\n",
    "\n",
    "\\D - Not a Digit (0-9)\n",
    "\\W - Not a Word charater \n",
    "\\S - Not a Whitespace\n"
   ]
  },
  {
   "cell_type": "code",
   "execution_count": null,
   "id": "0534a362",
   "metadata": {},
   "outputs": [],
   "source": [
    "14. What is the difference between .*? and .*?\n",
    "Ans - Didn't find any difference. Both are lloking like same charaters until the assignment is missing \n",
    "with any other charaters."
   ]
  },
  {
   "cell_type": "code",
   "execution_count": null,
   "id": "47807684",
   "metadata": {},
   "outputs": [],
   "source": [
    "15. What is the syntax for matching both numbers and lowercase letters with a character class?\n",
    "Ans -\n",
    "For matching numbers and lowercase characters we use square brackers as mentioned below.\n",
    "[a-z0-9]"
   ]
  },
  {
   "cell_type": "code",
   "execution_count": null,
   "id": "a4587484",
   "metadata": {},
   "outputs": [],
   "source": [
    "16. What is the procedure for making a normal expression in regax case insensitive?\n",
    "Ans - We can use the method re.IGNORECASE to make a normal expression as a case insensitive.\n"
   ]
  },
  {
   "cell_type": "code",
   "execution_count": null,
   "id": "5c427638",
   "metadata": {},
   "outputs": [],
   "source": [
    "17. What does the . character normally match? What does it match if re.DOTALL is passed as 2nd argument in re.compile()?\n",
    "Ans - the .  will match any character except new line character.\n",
    "If we provide re.DOTALL as 2nd argument then it will consider the new line character as well"
   ]
  },
  {
   "cell_type": "code",
   "execution_count": null,
   "id": "849c7337",
   "metadata": {},
   "outputs": [],
   "source": [
    "18. If numReg = re.compile(r'\\d+'), what will numRegex.sub('X', '11 drummers, 10 pipers, five rings, 4 hen') return?\n",
    "Ans - numReg.sub('X', '11 drummers, 10 pipers, five rings, 4 hen') expression willo writen \n",
    "'X drummers, X pipers, five rings, X hen'\n",
    "\n",
    "since \\d+ will match all the digits and 'X' will be replaced by thr matching partten."
   ]
  },
  {
   "cell_type": "code",
   "execution_count": null,
   "id": "a295b6f4",
   "metadata": {},
   "outputs": [],
   "source": [
    "19. What does passing re.VERBOSE as the 2nd argument to re.compile() allow to do?\n",
    "Ans - \n",
    "re.VERBOSE allows you to write regular expressions that look nicer and are more readable by allowing you to \n",
    "visually separate logical sections of the pattern and add comments."
   ]
  },
  {
   "cell_type": "code",
   "execution_count": null,
   "id": "0c49fbf4",
   "metadata": {},
   "outputs": [],
   "source": [
    "20. How would you write a regex that match a number with comma for every three digits? It must match the given following:\n",
    "'42'\n",
    "'1,234'\n",
    "'6,368,745'\n",
    "but not the following:\n",
    "'12,34,567' (which has only two digits between the commas)\n",
    "'1234' (which lacks commas)\n",
    "\n",
    "Ans - \n",
    "\n",
    "pattern = re.compile(r'^\\d{1,3}(,\\d{3})*$')\n",
    "matches = pattern.findall(Q20)\n",
    "for matcch in matches:\n",
    "    print(matcch)"
   ]
  },
  {
   "cell_type": "code",
   "execution_count": null,
   "id": "226214a1",
   "metadata": {},
   "outputs": [],
   "source": [
    "21. How would you write a regex that matches the full name of someone whose last name is Watanabe? \n",
    "You can assume that the first name that comes before it will always be one word that begins with a capital letter. \n",
    "The regex must match the following:\n",
    "'Haruto Watanabe'\n",
    "'Alice Watanabe'\n",
    "'RoboCop Watanabe'\n",
    "but not the following:\n",
    "'haruto Watanabe' (where the first name is not capitalized)\n",
    "'Mr. Watanabe' (where the preceding word has a nonletter character)\n",
    "'Watanabe' (which has no first name)\n",
    "'Haruto watanabe' (where Watanabe is not capitalized)\n",
    "\n",
    "Ans - \n",
    "pattern = re.compile(r'[A-Z]\\w+ Watanabe')\n",
    "matches = pattern.findall(Q21)\n",
    "for matcch in matches:\n",
    "    print(matcch)\n",
    "\n",
    "Output\n",
    "Haruto Watanabe\n",
    "Alice Watanabe\n",
    "RoboCop Watanabe"
   ]
  },
  {
   "cell_type": "code",
   "execution_count": null,
   "id": "2d5f45af",
   "metadata": {},
   "outputs": [],
   "source": [
    "22. How would you write a regex that matches a sentence where the first word is either Alice, Bob, or Carol; \n",
    "the second word is either eats, pets, or throws; the third word is apples, cats, or baseballs; \n",
    "and the sentence ends with a period? This regex should be case-insensitive. It must match the following:\n",
    "'Alice eats apples.'\n",
    "'Bob pets cats.'\n",
    "'Carol throws baseballs.'\n",
    "'Alice throws Apples.'\n",
    "'BOB EATS CATS.'\n",
    "but not the following:\n",
    "'RoboCop eats apples.'\n",
    "'ALICE THROWS FOOTBALLS.'\n",
    "'Carol eats 7 cats.'\n",
    "\n",
    "Ans - \n",
    "\n",
    "pattern = re.compile(r'(Alice|Bob|Carol) (eats|pets|throws) (apples|cats|baseballs)\\.',re.IGNORECASE)\n",
    "matches = pattern.findall(Q22)\n",
    "for matcch in matches:\n",
    "    print(matcch)"
   ]
  },
  {
   "cell_type": "code",
   "execution_count": null,
   "id": "5603ad1e",
   "metadata": {},
   "outputs": [],
   "source": []
  }
 ],
 "metadata": {
  "kernelspec": {
   "display_name": "Python 3",
   "language": "python",
   "name": "python3"
  },
  "language_info": {
   "codemirror_mode": {
    "name": "ipython",
    "version": 3
   },
   "file_extension": ".py",
   "mimetype": "text/x-python",
   "name": "python",
   "nbconvert_exporter": "python",
   "pygments_lexer": "ipython3",
   "version": "3.8.8"
  }
 },
 "nbformat": 4,
 "nbformat_minor": 5
}
