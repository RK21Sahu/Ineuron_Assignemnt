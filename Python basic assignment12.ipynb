{
 "cells": [
  {
   "cell_type": "code",
   "execution_count": null,
   "id": "cf3355b1",
   "metadata": {},
   "outputs": [],
   "source": [
    "1. In what modes should the PdfFileReader() and PdfFileWriter() File objects will be opened?\n",
    "Ans - PdfFileReader() method should be opned as 'rb' mode i.e. read binary mode.\n",
    "However PdfFileWriter() method should be opened as 'wb' mode i.e. write binary mode."
   ]
  },
  {
   "cell_type": "code",
   "execution_count": null,
   "id": "28d5b978",
   "metadata": {},
   "outputs": [],
   "source": [
    "2. From a PdfFileReader object, how do you get a Page object for page 5?\n",
    "Ans - We can get a page object for page 5 by calling the mentod getPage(5).\n"
   ]
  },
  {
   "cell_type": "code",
   "execution_count": null,
   "id": "2caf3fce",
   "metadata": {},
   "outputs": [],
   "source": [
    "3. What PdfFileReader variable stores the number of pages in the PDF document?\n",
    "Ans - numPages variables stores the number of pages in the pdf documnets.\n",
    "example: \n",
    "\n",
    "import PyPDF2\n",
    "pdfFileObj = open('result.pdf', 'rb')\n",
    "pdfReader = PyPDF2.PdfFileReader(pdfFileObj)\n",
    "print(pdfReader.numPages)"
   ]
  },
  {
   "cell_type": "code",
   "execution_count": null,
   "id": "205b26d3",
   "metadata": {},
   "outputs": [],
   "source": [
    "4. If a PdfFileReader object’s PDF is encrypted with the password swordfish, what must you do before you can obtain\n",
    "Page objects from it?\n",
    "Ans - pdf file is encrypted with the password swordfish then we must decrypt the pdf file before obtain\n",
    "Page objects from it.\n",
    "\n",
    "example: \n",
    "import PyPDF2\n",
    "file = PdfFileReader(\"finemane.pdf\")\n",
    "password = \"swordfish\"\n",
    "file.decrypt(password)\n",
    "    "
   ]
  },
  {
   "cell_type": "code",
   "execution_count": null,
   "id": "05fa2b26",
   "metadata": {},
   "outputs": [],
   "source": [
    "5. What methods do you use to rotate a page?\n",
    "Ans - rotateClockwise() is used to rotate a page.\n",
    "we can paas the number/degree in as parameter for rotation."
   ]
  },
  {
   "cell_type": "code",
   "execution_count": null,
   "id": "828e971e",
   "metadata": {},
   "outputs": [],
   "source": [
    "6. What is the difference between a Run object and a Paragraph object?\n",
    "Ans - Run object is the lowest level of object of word documents. It will contain partiacular texts in a particular run.\n",
    "Paragraph object is middle level object of the word documents. It will contain the list of run objects."
   ]
  },
  {
   "cell_type": "code",
   "execution_count": null,
   "id": "4953dcd0",
   "metadata": {},
   "outputs": [],
   "source": [
    "7. How do you obtain a list of Paragraph objects for a Document object that’s stored in a variable named doc?\n",
    "\n",
    "Ans - \n",
    "import docx\n",
    "doc = docx.Document()\n",
    "doc_para = doc.add_paragraph('Your paragraph goes here, ')"
   ]
  },
  {
   "cell_type": "code",
   "execution_count": null,
   "id": "e9bbea86",
   "metadata": {},
   "outputs": [],
   "source": [
    "8. What type of object has bold, underline, italic, strike, and outline variables?\n",
    "Ans - In a add_run() object have a variables like bold, underline, italic, strike, and outline\n",
    "example:\n",
    "import docx\n",
    "doc = docx.Document()\n",
    "doc_para = doc.add_paragraph('Your paragraph goes here, ')\n",
    "\n",
    "doc_para.add_run('bold text').bold = True\n",
    "doc_para.add_run('just space ')\n",
    "doc_para.add_run('italic test').italic = True\n",
    "doc_para.add_run('underline test').underline = True\n",
    "doc_para.add_run('strike test').strike = True\n",
    "doc_para.add_run('outline test').outline = True\n",
    "doc.save('abc.docx')\n"
   ]
  },
  {
   "cell_type": "code",
   "execution_count": null,
   "id": "6cf0a3d9",
   "metadata": {},
   "outputs": [],
   "source": [
    "9. What is the difference between False, True, and None for the bold variable?\n",
    "Ans - True and False takes a boolean value weatrher bold required or not. \n",
    "However None is used where the field takes an Optional. "
   ]
  },
  {
   "cell_type": "code",
   "execution_count": null,
   "id": "2c04a97c",
   "metadata": {},
   "outputs": [],
   "source": [
    "10. How do you create a Document object for a new Word document?\n",
    "Ans - Create a Document() object then do the operation as you wish like write paragraph or juct test.\n",
    "the use the object reference with save method and pass the file name as argument. \n",
    "In the example provided in question 8, new document abc is created."
   ]
  },
  {
   "cell_type": "code",
   "execution_count": null,
   "id": "4bf15c79",
   "metadata": {},
   "outputs": [],
   "source": [
    "11. How do you add a paragraph with the text 'Hello, there!' to a Document object stored in a variable named doc?\n",
    "Ans - we have add paragrapgh by using the method add_paragraph() with help of document object.\n",
    "I have provided the example in the question 8."
   ]
  },
  {
   "cell_type": "code",
   "execution_count": null,
   "id": "181302dd",
   "metadata": {},
   "outputs": [],
   "source": [
    "12. What integers represent the levels of headings available in Word documents?\n",
    "\n",
    "ANs - intiger 0 repressents the largest heading available in the word documents.\n",
    "example: doc.add_heading('Heading for the document', 0)\n"
   ]
  },
  {
   "cell_type": "code",
   "execution_count": null,
   "id": "1a668722",
   "metadata": {},
   "outputs": [],
   "source": []
  },
  {
   "cell_type": "code",
   "execution_count": null,
   "id": "b2536729",
   "metadata": {},
   "outputs": [],
   "source": [
    "\n"
   ]
  },
  {
   "cell_type": "code",
   "execution_count": null,
   "id": "7cc37e79",
   "metadata": {},
   "outputs": [],
   "source": []
  },
  {
   "cell_type": "code",
   "execution_count": null,
   "id": "ac7820cb",
   "metadata": {},
   "outputs": [],
   "source": []
  }
 ],
 "metadata": {
  "kernelspec": {
   "display_name": "Python 3",
   "language": "python",
   "name": "python3"
  },
  "language_info": {
   "codemirror_mode": {
    "name": "ipython",
    "version": 3
   },
   "file_extension": ".py",
   "mimetype": "text/x-python",
   "name": "python",
   "nbconvert_exporter": "python",
   "pygments_lexer": "ipython3",
   "version": "3.8.8"
  }
 },
 "nbformat": 4,
 "nbformat_minor": 5
}
