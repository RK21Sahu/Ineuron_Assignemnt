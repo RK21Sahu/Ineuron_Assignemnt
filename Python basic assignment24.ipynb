{
 "cells": [
  {
   "cell_type": "code",
   "execution_count": null,
   "id": "6825e41f",
   "metadata": {},
   "outputs": [],
   "source": [
    "1. What is the relationship between def statements and lambda expressions ?\n",
    "Ans - \n",
    "def statement will help to create a custom function for the programmer. However lambda expressions will allow a programmer\n",
    "to crerate a one liner/small funtion without any name of the dunction."
   ]
  },
  {
   "cell_type": "code",
   "execution_count": null,
   "id": "b3d9278d",
   "metadata": {},
   "outputs": [],
   "source": [
    "2. What is the benefit of lambda?\n",
    "Ans -\n",
    "The lambda keyword in Python provides a shortcut for declaring small anonymous functions. "
   ]
  },
  {
   "cell_type": "code",
   "execution_count": null,
   "id": "35e7b0f9",
   "metadata": {},
   "outputs": [],
   "source": [
    "3. Compare and contrast map, filter, and reduce.\n",
    "Ans - \n",
    "\n",
    "All three functions will take input argument as one function and one iterable element like list.\n",
    "\n",
    "The map() function executes a specified function for each item in an iterable. The item is sent to the function as a \n",
    "parameter.\n",
    "\n",
    "The filter() function returns an iterator were the items are filtered through a function to test if the item is \n",
    "accepted or not.\n",
    "\n",
    "The reduce(fun,seq) function is used to apply a particular function passed in its argument to all of the list elements \n",
    "mentioned in the sequence passed along.\n",
    "\n"
   ]
  },
  {
   "cell_type": "code",
   "execution_count": null,
   "id": "978aeaa0",
   "metadata": {},
   "outputs": [],
   "source": [
    "4. What are function annotations, and how are they used?\n",
    "Ans - \n",
    "Function annotations are arbitrary python expressions that are associated with various part of functions. These expressions\n",
    "are evaluated at compile time and have no life in python’s runtime environment. Python does not attach any meaning to \n",
    "these annotations. They take life when interpreted by third party libraries, for example, mypy."
   ]
  },
  {
   "cell_type": "code",
   "execution_count": null,
   "id": "0792017a",
   "metadata": {},
   "outputs": [],
   "source": [
    "5. What are recursive functions, and how are they used?\n",
    "Ans -\n",
    "Python also accepts function recursion, which means a defined function can call itself.\n",
    "Recursion is a common mathematical and programming concept. It means that a function calls itself. \n",
    "This has the benefit of meaning that you can loop through data to reach a result."
   ]
  },
  {
   "cell_type": "code",
   "execution_count": null,
   "id": "36566b70",
   "metadata": {},
   "outputs": [],
   "source": [
    "6. What are some general design guidelines for coding functions?\n",
    "Ans -\n",
    "1. Use 4-space indentation and no tabs.\n",
    "2. Use docstring\n",
    "3. Wrap lines so that they don’t exceed 79 characters : \n",
    "4. Use of regular and updated comments are valuable to both the coders and users : \n",
    "5. Use Python’s default UTF-8 or ASCII encodings and not any fancy encodings\n",
    "6. Use spaces around operators and after commas, but not directly inside bracketing constructs:\n",
    "7. Naming Conventions : lowercase with words separated by underscores as necessary to improve readability.\n",
    "Use one leading underscore only for non-public methods and instance variables.\n",
    "To avoid name clashes with subclasses, use two leading underscores to invoke Python’s name mangling rules."
   ]
  },
  {
   "cell_type": "code",
   "execution_count": null,
   "id": "a081a4ca",
   "metadata": {},
   "outputs": [],
   "source": [
    "7. Name three or more ways that functions can communicate results to a caller.\n",
    "Ans -\n",
    "By return statment we can capture the result from a function\n",
    "by log file a function can paas the information to the caller\n",
    "by print statement a function can print."
   ]
  },
  {
   "cell_type": "code",
   "execution_count": null,
   "id": "6f4ac303",
   "metadata": {},
   "outputs": [],
   "source": []
  }
 ],
 "metadata": {
  "kernelspec": {
   "display_name": "Python 3",
   "language": "python",
   "name": "python3"
  },
  "language_info": {
   "codemirror_mode": {
    "name": "ipython",
    "version": 3
   },
   "file_extension": ".py",
   "mimetype": "text/x-python",
   "name": "python",
   "nbconvert_exporter": "python",
   "pygments_lexer": "ipython3",
   "version": "3.8.8"
  }
 },
 "nbformat": 4,
 "nbformat_minor": 5
}
