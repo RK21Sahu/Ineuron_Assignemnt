{
 "cells": [
  {
   "cell_type": "code",
   "execution_count": null,
   "id": "947a7f3e",
   "metadata": {},
   "outputs": [],
   "source": [
    "1. Create a list called years_list, starting with the year of your birth, and each year thereafter until the year of your \n",
    "fifth birthday. For example, if you were born in 1980. the list would be years_list = [1980, 1981, 1982, 1983, 1984, 1985].\n",
    "ans -\n",
    "years_list = [1990, 1991, 1992, 1993, 1994, 1995]"
   ]
  },
  {
   "cell_type": "code",
   "execution_count": null,
   "id": "bf055a60",
   "metadata": {},
   "outputs": [],
   "source": [
    "2. In which year in years_list was your third birthday? Remember, you were 0 years of age for your first year.\n",
    "Ans - years_list[0]\n",
    "\n",
    "output - 1990"
   ]
  },
  {
   "cell_type": "code",
   "execution_count": null,
   "id": "e51ca0dd",
   "metadata": {},
   "outputs": [],
   "source": [
    "3.In the years list, which year were you the oldest?\n",
    "Ans- \n",
    "years_list[-1]\n",
    "\n",
    "output - 1995"
   ]
  },
  {
   "cell_type": "code",
   "execution_count": null,
   "id": "a2d2e779",
   "metadata": {},
   "outputs": [],
   "source": [
    "4. Make a list called things with these three strings as elements: \"mozzarella\", \"cinderella\", \"salmonella\".\n",
    "Ans - \n",
    "things = [\"mozzarella\", \"cinderella\", \"salmonella\"]"
   ]
  },
  {
   "cell_type": "code",
   "execution_count": null,
   "id": "255acdb4",
   "metadata": {},
   "outputs": [],
   "source": [
    "5. Capitalize the element in things that refers to a person and then print the list. Did it change the element in the list?\n",
    "Ans - \n",
    "things[1] = things[1].upper()\n",
    "Yes just changed the case of the element to upper case."
   ]
  },
  {
   "cell_type": "code",
   "execution_count": null,
   "id": "871e6317",
   "metadata": {},
   "outputs": [],
   "source": [
    "6. Make a surprise list with the elements \"Groucho,\" \"Chico,\" and \"Harpo.\"\n",
    "Ans -\n",
    "surprise = [\"Groucho,\", \"Chico,\" , \"Harpo.\"]"
   ]
  },
  {
   "cell_type": "code",
   "execution_count": null,
   "id": "f8467bf1",
   "metadata": {},
   "outputs": [],
   "source": [
    "7. Lowercase the last element of the surprise list, reverse it, and then capitalize it.\n",
    "Ans - \n",
    "surprise[-1] = surprise[-1].lower()[::-1].upper()\n"
   ]
  },
  {
   "cell_type": "code",
   "execution_count": null,
   "id": "a92a2e7b",
   "metadata": {},
   "outputs": [],
   "source": [
    "8. Make an English-to-French dictionary called e2f and print it. Here are your starter words: dog is chien, \n",
    "    cat is chat, and walrus is morse.\n",
    "\n",
    "Ans -\n",
    "e2f={\"dog\":\"chien\",\"cat\":\"chat\",\"walrus\":\"morse\"}"
   ]
  },
  {
   "cell_type": "code",
   "execution_count": null,
   "id": "f6a38237",
   "metadata": {},
   "outputs": [],
   "source": [
    "9. Write the French word for walrus in your three-word dictionary e2f.\n",
    "Ans-\n",
    "e2f[\"walrus\"]\n",
    "\n",
    "output - morse"
   ]
  },
  {
   "cell_type": "code",
   "execution_count": null,
   "id": "e502e5ef",
   "metadata": {},
   "outputs": [],
   "source": [
    "10. Make a French-to-English dictionary called f2e from e2f. Use the items method.\n",
    "Ans -\n",
    "\n",
    "dict_itm=e2f.items()\n",
    "dict_itm=list(dict_itm)\n",
    "f2e={}\n",
    "f2e[dict_itm[0][1]] = dict_itm[0][0]\n",
    "f2e[dict_itm[1][1]] = dict_itm[1][0]\n",
    "f2e[dict_itm[2][1]] = dict_itm[2][0]"
   ]
  },
  {
   "cell_type": "code",
   "execution_count": null,
   "id": "40fe7a89",
   "metadata": {},
   "outputs": [],
   "source": [
    "11. Print the English version of the French word chien using f2e.\n",
    "Ans - \n",
    "f2e[\"chien\"]\n",
    "\n",
    "output - 'dog'\n"
   ]
  },
  {
   "cell_type": "code",
   "execution_count": null,
   "id": "4eede17d",
   "metadata": {},
   "outputs": [],
   "source": [
    "12. Make and print a set of English words from the keys in e2f.\n",
    "Ans - \n",
    "e2f.keys()\n",
    "output - dict_keys(['dog', 'cat', 'walrus'])"
   ]
  },
  {
   "cell_type": "code",
   "execution_count": null,
   "id": "862032bf",
   "metadata": {},
   "outputs": [],
   "source": [
    "13. Make a multilevel dictionary called life. Use these strings for the topmost keys: 'animals', 'plants', and 'other'.\n",
    "Make the 'animals' key refer to another dictionary with the keys 'cats', 'octopi', and 'emus'. \n",
    "Make the 'cats' key refer to a list of strings with the values 'Henri', 'Grumpy', and 'Lucy'. \n",
    "Make all the other keys refer to empty dictionaries.\n",
    "\n",
    "Ans -\n",
    "\n",
    "life={'animals':{'cats':{'Henri', 'Grumpy', 'Lucy'},'octopi':{},'emus':{}}, 'plants':{}, 'other':{}}"
   ]
  },
  {
   "cell_type": "code",
   "execution_count": null,
   "id": "6d710beb",
   "metadata": {},
   "outputs": [],
   "source": [
    "14. Print the top-level keys of life.\n",
    "Ans - life.keys()\n",
    "output - dict_keys(['animals', 'plants', 'other'])"
   ]
  },
  {
   "cell_type": "code",
   "execution_count": null,
   "id": "5f6101ed",
   "metadata": {},
   "outputs": [],
   "source": [
    "15. Print the keys for life['animals'].\n",
    "ans - life['animals']\n",
    "\n",
    "output - {'cats': {'Grumpy', 'Henri', 'Lucy'}, 'octopi': {}, 'emus': {}}"
   ]
  },
  {
   "cell_type": "code",
   "execution_count": null,
   "id": "ddbb4b02",
   "metadata": {},
   "outputs": [],
   "source": [
    "16. Print the values for life['animals']['cats']\n",
    "ans - life['animals']['cats']\n",
    "output - {'Grumpy', 'Henri', 'Lucy'}"
   ]
  },
  {
   "cell_type": "code",
   "execution_count": null,
   "id": "1c9bd36f",
   "metadata": {},
   "outputs": [],
   "source": []
  }
 ],
 "metadata": {
  "kernelspec": {
   "display_name": "Python 3",
   "language": "python",
   "name": "python3"
  },
  "language_info": {
   "codemirror_mode": {
    "name": "ipython",
    "version": 3
   },
   "file_extension": ".py",
   "mimetype": "text/x-python",
   "name": "python",
   "nbconvert_exporter": "python",
   "pygments_lexer": "ipython3",
   "version": "3.8.8"
  }
 },
 "nbformat": 4,
 "nbformat_minor": 5
}
