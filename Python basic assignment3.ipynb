{
 "cells": [
  {
   "cell_type": "code",
   "execution_count": null,
   "id": "f2c130dc",
   "metadata": {},
   "outputs": [],
   "source": [
    "1. Why are functions advantageous to have in your programs?\n",
    "ans - If we write the codes in function then it increases the reusability of the code. Hence its preferable to write the \n",
    "code in functions."
   ]
  },
  {
   "cell_type": "code",
   "execution_count": null,
   "id": "59e36698",
   "metadata": {},
   "outputs": [],
   "source": [
    "2. When does the code in a function run: when it's specified or when it's called?\n",
    "Ans - We will call the function then only the function will run."
   ]
  },
  {
   "cell_type": "code",
   "execution_count": null,
   "id": "f68f725b",
   "metadata": {},
   "outputs": [],
   "source": [
    "3. What statement creates a function?\n",
    "Ans - def statement creates a function.\n",
    "example: \n",
    "def test():\n",
    "    print(\"This is a test function\")\n"
   ]
  },
  {
   "cell_type": "code",
   "execution_count": null,
   "id": "6f05ddae",
   "metadata": {},
   "outputs": [],
   "source": [
    "4. What is the difference between a function and a function call?\n",
    "Ans - When we write the defination of the function (function) then we can say that this my function. However wehnwe are \n",
    "calling the function then we are comanding so that the consol will go the function and will execute the function.\n",
    "example: below is the function:\n",
    "def test():\n",
    "    print(\"This is a test function\")\n",
    "  \n",
    " below is the calling of function\n",
    "Test()"
   ]
  },
  {
   "cell_type": "code",
   "execution_count": null,
   "id": "855d0982",
   "metadata": {},
   "outputs": [],
   "source": [
    "5. How many global scopes are there in a Python program? How many local scopes?\n",
    "Ans - There is one global scope and many local scope in the python. When we use define a variable outside of the funtion \n",
    "the it will be avilable in all places of the program and we can say this as global variable.\n",
    "When we will define a variable inside any function then we will say this as local variable."
   ]
  },
  {
   "cell_type": "code",
   "execution_count": null,
   "id": "539549ff",
   "metadata": {},
   "outputs": [],
   "source": [
    "6. What happens to variables in a local scope when the function call returns?\n",
    "Ans - Local variable scope is within the function only. Hence when the functions function call returns then the console \n",
    "with come out of the function. Once the console come out of the function then the memory of the local variable will be released and the variables are destroyed."
   ]
  },
  {
   "cell_type": "code",
   "execution_count": null,
   "id": "1b5afe3c",
   "metadata": {},
   "outputs": [],
   "source": [
    "7. What is the concept of a return value? Is it possible to have a return value in an expression?\n",
    "Ans - Pythons return statement is specal statement that will help the function to return the result to its caller. We can \n",
    "write a expression after return keyword in python."
   ]
  },
  {
   "cell_type": "code",
   "execution_count": null,
   "id": "5dc3dfd5",
   "metadata": {},
   "outputs": [],
   "source": [
    "8. If a function does not have a return statement, what is the return value of a call to that function?\n",
    "Ans - if there is no return statement in a funtion then the return value will be None."
   ]
  },
  {
   "cell_type": "code",
   "execution_count": null,
   "id": "e1074127",
   "metadata": {},
   "outputs": [],
   "source": [
    "9. How do you make a function variable refer to the global variable?\n",
    "Ans - We have to delcare the function variable as global useing the global keyword in a function. \n",
    "example: \n",
    "Def test():\n",
    "    global test_var\n",
    "   "
   ]
  },
  {
   "cell_type": "code",
   "execution_count": null,
   "id": "815981ea",
   "metadata": {},
   "outputs": [],
   "source": [
    "10. What is the data type of None?\n",
    "Ans - Data type of None is Nonetype."
   ]
  },
  {
   "cell_type": "code",
   "execution_count": null,
   "id": "083a897e",
   "metadata": {},
   "outputs": [],
   "source": [
    "11. What does the sentence import areallyourpetsnamederic do?"
   ]
  },
  {
   "cell_type": "code",
   "execution_count": null,
   "id": "46fd2148",
   "metadata": {},
   "outputs": [],
   "source": [
    "12. If you had a bacon() feature in a spam module, what would you call it after importing spam?\n",
    "Ans -  there is no movule called \"areallyourpetsnamederic\"\n",
    "\n"
   ]
  },
  {
   "cell_type": "code",
   "execution_count": null,
   "id": "87f9543e",
   "metadata": {},
   "outputs": [],
   "source": [
    "13. What can you do to save a programme from crashing if it encounters an error?\n",
    "Ans - We can wtire a program, in the try block and can handle it in except block. So that the program woh't crash in case \n",
    "of any encounter with an error."
   ]
  },
  {
   "cell_type": "code",
   "execution_count": null,
   "id": "eacec0af",
   "metadata": {},
   "outputs": [],
   "source": [
    "14. What is the purpose of the try clause? What is the purpose of the except clause?\n",
    "Ans - we used to write the codes in try block those are tend to throw an error in some casees depend on the input. Try \n",
    "block stop the program from crashing and will pass the control to except block in case of any error.\n",
    "except block will handle the error and also used to give proper information to the user that the program is not excected \n",
    "due to so so input."
   ]
  },
  {
   "cell_type": "code",
   "execution_count": null,
   "id": "87979a47",
   "metadata": {},
   "outputs": [],
   "source": []
  },
  {
   "cell_type": "code",
   "execution_count": null,
   "id": "904d5e13",
   "metadata": {},
   "outputs": [],
   "source": []
  }
 ],
 "metadata": {
  "kernelspec": {
   "display_name": "Python 3",
   "language": "python",
   "name": "python3"
  },
  "language_info": {
   "codemirror_mode": {
    "name": "ipython",
    "version": 3
   },
   "file_extension": ".py",
   "mimetype": "text/x-python",
   "name": "python",
   "nbconvert_exporter": "python",
   "pygments_lexer": "ipython3",
   "version": "3.8.8"
  }
 },
 "nbformat": 4,
 "nbformat_minor": 5
}
