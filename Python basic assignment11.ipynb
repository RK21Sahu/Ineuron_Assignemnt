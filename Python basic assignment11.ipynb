{
 "cells": [
  {
   "cell_type": "code",
   "execution_count": null,
   "id": "9ad1329f",
   "metadata": {},
   "outputs": [],
   "source": [
    "1. Create an assert statement that throws an AssertionError if the variable spam is a negative integer.\n",
    "Ans - \n",
    "class assertstmt():\n",
    "    def __init__(self,spam):\n",
    "        self.spam=spam\n",
    "    def assertfun(self):\n",
    "        if type(self.spam)==int:\n",
    "            assert self.spam >= 0\n",
    "        else:\n",
    "            print(\"spam should be a intiger\")\n",
    "            \n",
    "obj=assertstmt(-5)\n",
    "obj.assertfun()"
   ]
  },
  {
   "cell_type": "code",
   "execution_count": null,
   "id": "2ca849f5",
   "metadata": {},
   "outputs": [],
   "source": [
    "2. Write an assert statement that triggers an AssertionError if the variables eggs and bacon contain strings that are \n",
    "the same as each other, even if their cases are different (that is, 'hello' and 'hello' are considered the same, \n",
    "and 'goodbye' and 'GOODbye' are also considered the same).\n",
    "\n",
    "Ans - \n",
    "class assertstmt():\n",
    "    def __init__(self,eggs,bacon):\n",
    "        self.eggs=eggs\n",
    "        self.bacon=bacon\n",
    "    def assertfun(self):\n",
    "        if type(self.eggs)==str and type(self.bacon)==str :\n",
    "            assert self.eggs.upper() != self.bacon.upper()\n",
    "            #print(self.eggs.upper(),self.bacon.upper())\n",
    "        else:\n",
    "            print(\"eggs and bacon should be string\")\n",
    "\n",
    "obj=assertstmt(\"goodbye\",\"GOODbye\")\n",
    "obj.assertfun()           "
   ]
  },
  {
   "cell_type": "code",
   "execution_count": null,
   "id": "7c4fb1df",
   "metadata": {},
   "outputs": [],
   "source": [
    "3. Create an assert statement that throws an AssertionError every time.\n",
    "Ans \n",
    "\n",
    "class assertstmt():\n",
    "    def assertfun(self):\n",
    "        assert False\n",
    "        print(\"function executed\")\n",
    "            \n",
    "obj=assertstmt()\n",
    "obj.assertfun()"
   ]
  },
  {
   "cell_type": "code",
   "execution_count": null,
   "id": "6e53d550",
   "metadata": {},
   "outputs": [],
   "source": [
    "4. What are the two lines that must be present in your software in order to call logging.debug()?\n",
    "Ans - \n",
    "\n",
    "To use the loggin module we have to import the moduule into our program. Hence import logging should be pressent.\n",
    "And the 2nd statement will be \n",
    "logging.basicConfig(filename='example.log', encoding='utf-8', level=logging.DEBUG)\n"
   ]
  },
  {
   "cell_type": "code",
   "execution_count": null,
   "id": "dbb6ae72",
   "metadata": {},
   "outputs": [],
   "source": [
    "5. What are the two lines that your program must have in order to have logging.debug() send a logging message to a \n",
    "file named programLog.txt?\n",
    "\n",
    "Ans - \n",
    "import logging()\n",
    "logging.basicConfig(filename='programLog.txt', encoding='utf-8', level=logging.DEBUG)"
   ]
  },
  {
   "cell_type": "code",
   "execution_count": null,
   "id": "362ee10e",
   "metadata": {},
   "outputs": [],
   "source": [
    "6. What are the five levels of logging?\n",
    "Ans - \n",
    "Debug:- It is used to give Detailed information. We generally use this while reviewing our code or diagnosing error.\n",
    "Info:- it is used to confirm that things are working as expected (just to provide information).\n",
    "Warning:- it is used an indication that something unexpected happened, for sake of giving a warning that error can happen\n",
    "in future.\n",
    "Error:- This tells that due to a more serious problem, the software has not been able to execute the program as required.\n",
    "Critical:- This tells serious error, indicating that the program itself may be unable to continue running\n"
   ]
  },
  {
   "cell_type": "code",
   "execution_count": null,
   "id": "bf29ae48",
   "metadata": {},
   "outputs": [],
   "source": [
    "7. What line of code would you add to your software to disable all logging messages?\n",
    "ans - \n",
    "We can use logging.disable=true."
   ]
  },
  {
   "cell_type": "code",
   "execution_count": null,
   "id": "68fff6b6",
   "metadata": {},
   "outputs": [],
   "source": [
    "8.Why is using logging messages better than using print() to display the same message?\n",
    "Ans - \n",
    "Why logging - \n",
    "We can turn it on and of easily. We can easily identify where and when the logging happen (with timestamp).\n",
    "we can differentiate the logging based on severity and log what is required.\n",
    "\n",
    "However print statement doesn't offers these options."
   ]
  },
  {
   "cell_type": "code",
   "execution_count": null,
   "id": "c47365de",
   "metadata": {},
   "outputs": [],
   "source": [
    "9. What are the differences between the Step Over, Step In, and Step Out buttons in the debugger?\n",
    "\n",
    "Ans -\n",
    "Step Into:- When the next statement to execute reaches a method call, dont execute the method as a whole, \n",
    "    but rather, execute the first line of that method and stop\n",
    "Step Over:- When the next statement to execute reaches a method call, execute the method as a whole and stop\n",
    "Step Out:- Finish off executing the callee's code and stop when execution returns to the caller\n",
    "    "
   ]
  },
  {
   "cell_type": "code",
   "execution_count": null,
   "id": "525fe8e8",
   "metadata": {},
   "outputs": [],
   "source": [
    "10.After you click Continue, when will the debugger stop ?\n",
    "Ans - Continue will execute the code until the next breakpoint."
   ]
  },
  {
   "cell_type": "code",
   "execution_count": null,
   "id": "86efb2ee",
   "metadata": {},
   "outputs": [],
   "source": [
    "11. What is the concept of a breakpoint?\n",
    "Ans - breakpoint() inbuilt method helps the programmer to set a break point in code which debugger is called."
   ]
  },
  {
   "cell_type": "code",
   "execution_count": null,
   "id": "f3aa0402",
   "metadata": {},
   "outputs": [],
   "source": [
    "\n"
   ]
  }
 ],
 "metadata": {
  "kernelspec": {
   "display_name": "Python 3",
   "language": "python",
   "name": "python3"
  },
  "language_info": {
   "codemirror_mode": {
    "name": "ipython",
    "version": 3
   },
   "file_extension": ".py",
   "mimetype": "text/x-python",
   "name": "python",
   "nbconvert_exporter": "python",
   "pygments_lexer": "ipython3",
   "version": "3.8.8"
  }
 },
 "nbformat": 4,
 "nbformat_minor": 5
}
