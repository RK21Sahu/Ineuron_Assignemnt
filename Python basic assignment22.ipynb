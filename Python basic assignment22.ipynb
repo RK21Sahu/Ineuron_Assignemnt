{
 "cells": [
  {
   "cell_type": "code",
   "execution_count": null,
   "id": "36b446f0",
   "metadata": {},
   "outputs": [],
   "source": [
    "1. What is the result of the code, and explain?\n",
    "\n",
    ">>> X = 'iNeuron'\n",
    ">>> def func():\n",
    "print(X)\n",
    "\n",
    ">>> func()\n",
    "\n",
    "Ans - \n",
    "Result of this code will give the output as below.\n",
    "iNeuron\n",
    "\n",
    "Here X is assigned with the value 'iNeuron'. Since its global variable, it can used within a function and when \n",
    "we have called func() then it prints the value of X."
   ]
  },
  {
   "cell_type": "code",
   "execution_count": null,
   "id": "53c68e0d",
   "metadata": {},
   "outputs": [],
   "source": [
    "2. What is the result of the code, and explain?\n",
    "\n",
    ">>> X = 'iNeuron'\n",
    ">>> def func():\n",
    "X = 'NI!'\n",
    "\n",
    ">>> func()\n",
    ">>> print(X)\n",
    "\n",
    "Ans - \n",
    "Result of this code will give the output as below.\n",
    "iNeuron\n",
    "\n",
    "Here X is assigned with the value 'iNeuron'. Inside the func() another local variable assigned the value as NI! \n",
    "with the local scope. After function executed the local scope end. The print statement is written outside of the function \n",
    "hence it prints the value of X as iNeuron."
   ]
  },
  {
   "cell_type": "code",
   "execution_count": null,
   "id": "55cd4b6b",
   "metadata": {},
   "outputs": [],
   "source": [
    "3. What does this code print, and why?\n",
    "\n",
    ">>> X = 'iNeuron'\n",
    ">>> def func():\n",
    "X = 'NI'\n",
    "print(X)\n",
    "\n",
    ">>> func()\n",
    ">>> print(X)\n",
    "\n",
    "Ans - \n",
    "Result of this code will give the output as below.\n",
    "NI\n",
    "iNeuron\n",
    "\n",
    "When the func() called it will print the local variable value i.e. NI. after thet it will print iNeuron in print(x)\n",
    "statement written outside function."
   ]
  },
  {
   "cell_type": "code",
   "execution_count": null,
   "id": "21f69e10",
   "metadata": {},
   "outputs": [],
   "source": [
    "4. What output does this code produce? Why?\n",
    "\n",
    ">>> X = 'iNeuron'\n",
    ">>> def func():\n",
    "global X\n",
    "X = 'NI'\n",
    "\n",
    ">>> func()\n",
    ">>> print(X)\n",
    "\n",
    "Ans - \n",
    "Result of this code will give the output as below.\n",
    "NI\n",
    "\n",
    "Since we have mentioned the X variable as global inside the function. Whenwe assign the value as 'NI' then \n",
    "it will overwrite the value of X.\n",
    "Hence it will give the output as NI"
   ]
  },
  {
   "cell_type": "code",
   "execution_count": null,
   "id": "66127033",
   "metadata": {},
   "outputs": [],
   "source": [
    "5. What about this code—what’s the output, and why?\n",
    "\n",
    ">>> X = 'iNeuron'\n",
    ">>> def func():\n",
    "X = 'NI'\n",
    "def nested():\n",
    "print(X)\n",
    "nested()\n",
    "\n",
    ">>> func()\n",
    ">>> X\n",
    "\n",
    "Ans - \n",
    "Result of this code will give the output as below.\n",
    "NI\n",
    "'iNeuron'\n",
    "\n",
    "Scope of X will be available insiude the nested function. Hence it will print NI for nested() functions print statement.\n",
    "Outside the valie will be intact. Hence it will print 'iNeuron'"
   ]
  },
  {
   "cell_type": "code",
   "execution_count": null,
   "id": "d5094d05",
   "metadata": {},
   "outputs": [],
   "source": [
    "6. How about this code: what is its output in Python 3, and explain?\n",
    "\n",
    ">>> def func():\n",
    "X = 'NI'\n",
    "def nested():\n",
    "nonlocal X\n",
    "X = 'Spam'\n",
    "nested()\n",
    "print(X)\n",
    "\n",
    ">>> func()\n",
    "\n",
    "Ans - \n",
    "Result of this code will give the output as below.\n",
    "Spam\n",
    "in nested() function X is delcared as nonlocal. hence it will overwrite the value of X into 'Spam'. Hence it will print the \n",
    "value as Spam.\n"
   ]
  },
  {
   "cell_type": "code",
   "execution_count": null,
   "id": "3a9011c4",
   "metadata": {},
   "outputs": [],
   "source": []
  },
  {
   "cell_type": "code",
   "execution_count": null,
   "id": "40266517",
   "metadata": {},
   "outputs": [],
   "source": []
  },
  {
   "cell_type": "code",
   "execution_count": null,
   "id": "0c0a2b37",
   "metadata": {},
   "outputs": [],
   "source": []
  }
 ],
 "metadata": {
  "kernelspec": {
   "display_name": "Python 3",
   "language": "python",
   "name": "python3"
  },
  "language_info": {
   "codemirror_mode": {
    "name": "ipython",
    "version": 3
   },
   "file_extension": ".py",
   "mimetype": "text/x-python",
   "name": "python",
   "nbconvert_exporter": "python",
   "pygments_lexer": "ipython3",
   "version": "3.8.8"
  }
 },
 "nbformat": 4,
 "nbformat_minor": 5
}
