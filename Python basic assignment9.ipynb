{
 "cells": [
  {
   "cell_type": "code",
   "execution_count": null,
   "id": "5e128e6a",
   "metadata": {},
   "outputs": [],
   "source": [
    "1. To what does a relative path refer?\n",
    "Ans - A relative path refers to a location that is relative to a current directory."
   ]
  },
  {
   "cell_type": "code",
   "execution_count": null,
   "id": "247dfc7b",
   "metadata": {},
   "outputs": [],
   "source": [
    "2. What does an absolute path start with your operating system?\n",
    "Ans - An absolute path refers to the complete details needed to locate a file or folder, starting from the root element and\n",
    "ending with the other subdirectories.\n",
    "\n",
    "ex: D:\\Python\\Assignemnt\\Python basic assignment"
   ]
  },
  {
   "cell_type": "code",
   "execution_count": null,
   "id": "f7ca4c66",
   "metadata": {},
   "outputs": [],
   "source": [
    "3. What do the functions os.getcwd() and os.chdir() do?\n",
    "Ans - os.getcwd() - return the current directory \n",
    "os.chdir()  - This method used to change the current working directory to specified path. specified should be provided as \n",
    "arguments in hte method."
   ]
  },
  {
   "cell_type": "code",
   "execution_count": null,
   "id": "7cea4983",
   "metadata": {},
   "outputs": [],
   "source": [
    "4. What are the . and .. folders?\n",
    "Ans -  A single dot i.e. . represents the current directory itself.\n",
    "Double dots i.e. .. are used for moving up in the hierarchy.\n"
   ]
  },
  {
   "cell_type": "code",
   "execution_count": null,
   "id": "3def5c69",
   "metadata": {},
   "outputs": [],
   "source": [
    "5. In C:\\bacon\\eggs\\spam.txt, which part is the dir name, and which part is the base name?\n",
    "\n",
    "Ans - \"C:\\bacon\\eggs\" will be the dir name and \"spam.txt\" is the basename "
   ]
  },
  {
   "cell_type": "code",
   "execution_count": null,
   "id": "ad42fc41",
   "metadata": {},
   "outputs": [],
   "source": [
    "6. What are the three “mode” arguments that can be passed to the open() function?\n",
    "Ans - there were multiple modes can be provided as argument to the open() function.\n",
    "Out of which three mode are r, w, r+\n",
    "\n",
    "r: Opens the file in read-only mode. Starts reading from the beginning of the file and is the default mode for \n",
    "    the open() function.\n",
    "w: Opens in write-only mode. The pointer is placed at the beginning of the file and this will overwrite any existing file \n",
    "    with the same name. It will create a new file if one with the same name doesn't exist.\n",
    "r+: Opens a file for reading and writing, placing the pointer at the beginning of the file.\n",
    "    "
   ]
  },
  {
   "cell_type": "code",
   "execution_count": null,
   "id": "04ef11e1",
   "metadata": {},
   "outputs": [],
   "source": [
    "7. What happens if an existing file is opened in write mode?\n",
    "Ans - it will overwrite if a file is opened in the write mode."
   ]
  },
  {
   "cell_type": "code",
   "execution_count": null,
   "id": "6618d739",
   "metadata": {},
   "outputs": [],
   "source": [
    "8. How do you tell the difference between read() and readlines()?\n",
    "Ans - if read() method is used then it will read the entire file and will retun the entire data in one string.\n",
    "however readlines() will read olne one line (till \\n appears) on execution and will return a list of string."
   ]
  },
  {
   "cell_type": "code",
   "execution_count": null,
   "id": "2e8fb5fc",
   "metadata": {},
   "outputs": [],
   "source": [
    "9. What data structure does a shelf value resemble?\n",
    "Ans - A shelf value resembles a dictionary value; it has keys and values, along with keys() and values() methods \n",
    "that work similarly to the dictionary methods of the same names."
   ]
  },
  {
   "cell_type": "code",
   "execution_count": null,
   "id": "40792e51",
   "metadata": {},
   "outputs": [],
   "source": []
  }
 ],
 "metadata": {
  "kernelspec": {
   "display_name": "Python 3",
   "language": "python",
   "name": "python3"
  },
  "language_info": {
   "codemirror_mode": {
    "name": "ipython",
    "version": 3
   },
   "file_extension": ".py",
   "mimetype": "text/x-python",
   "name": "python",
   "nbconvert_exporter": "python",
   "pygments_lexer": "ipython3",
   "version": "3.8.8"
  }
 },
 "nbformat": 4,
 "nbformat_minor": 5
}
