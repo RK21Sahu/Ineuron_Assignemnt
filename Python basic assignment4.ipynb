{
 "cells": [
  {
   "cell_type": "code",
   "execution_count": null,
   "id": "db5719e1",
   "metadata": {},
   "outputs": [],
   "source": [
    "1. What exactly is []?\n",
    "Ans - these square brackets i.e. [] is used to create a list in the python."
   ]
  },
  {
   "cell_type": "code",
   "execution_count": null,
   "id": "6eb34ecb",
   "metadata": {},
   "outputs": [],
   "source": [
    "2. In a list of values stored in a variable called spam, how would you assign the value 'hello' as the third value? \n",
    "(Assume [2, 4, 6, 8, 10] are in spam.)\n",
    "Ans - we have to use the inter method to assign the 3rd value a 'hello' as mentioned below.\n",
    "spam.insert(2,\"hello\")\n"
   ]
  },
  {
   "cell_type": "code",
   "execution_count": null,
   "id": "786e47e0",
   "metadata": {},
   "outputs": [],
   "source": [
    "Let's pretend the spam includes the list ['a', 'b', 'c', 'd'] for the next three queries.\n",
    "3. What is the value of spam[int(int('3' * 2) / 11)]?\n",
    "ans - the value of spam[int(int('3' * 2) / 11)] will be 'd'\n",
    "steps - the value of int('3' * 2) = 33, since '3' is a string and it will write two times of '3' and '3'\n",
    "then we are type casting into int. again 33/11 will give the result as 3.\n",
    "spam[3] will be 'd'\n"
   ]
  },
  {
   "cell_type": "code",
   "execution_count": null,
   "id": "cf901e43",
   "metadata": {},
   "outputs": [],
   "source": [
    "4. What is the value of spam[-1]?\n",
    "ans - spam[-1] will give you the last element of the list i.e.'d'"
   ]
  },
  {
   "cell_type": "code",
   "execution_count": null,
   "id": "cb30b981",
   "metadata": {},
   "outputs": [],
   "source": [
    "5. What is the value of spam[:2]?\n",
    "ans - this will give the result from 0 index to the index mentioned excluding the upper bound. here spam[:2] will give the\n",
    "result for index 0 and 1 i.e ['a', 'b']"
   ]
  },
  {
   "cell_type": "code",
   "execution_count": null,
   "id": "5d10161d",
   "metadata": {},
   "outputs": [],
   "source": [
    "Let's pretend bacon has the list [3.14, 'cat,' 11, 'cat,' True] for the next three questions."
   ]
  },
  {
   "cell_type": "code",
   "execution_count": null,
   "id": "4e2e8933",
   "metadata": {},
   "outputs": [],
   "source": [
    "6. What is the value of bacon.index('cat')?\n",
    "Ans - bacon.index('cat') will give you the answer as 1. since index function will write the index of first element he find\n",
    "from the list.\n",
    "However the index for first cat is 1 and the idex of 2nd cat is 3."
   ]
  },
  {
   "cell_type": "code",
   "execution_count": null,
   "id": "1938bc2c",
   "metadata": {},
   "outputs": [],
   "source": [
    "7. How does bacon.append(99) change the look of the list value in bacon?\n",
    "ans - it will append the value i.e. 99 at the end of the list. Hence the new becon list will look like as \n",
    "[3.14, 'cat', 11, 'cat', True, 99]"
   ]
  },
  {
   "cell_type": "code",
   "execution_count": null,
   "id": "b98467f9",
   "metadata": {},
   "outputs": [],
   "source": [
    "8. How does bacon.remove('cat') change the look of the list in bacon?\n",
    "ans -  it will remove the first 'cat' he will find from index 0 and the new bacon list will look like as \n",
    "[3.14, 11, 'cat', True]"
   ]
  },
  {
   "cell_type": "code",
   "execution_count": null,
   "id": "5414a532",
   "metadata": {},
   "outputs": [],
   "source": [
    "9. What are the list concatenation and list replication operators?\n",
    "ans - plus i.e. + symbol is the list concatenation operation and the asterisk operator i.e * is the list replication \n",
    "operator."
   ]
  },
  {
   "cell_type": "code",
   "execution_count": null,
   "id": "2cb346bf",
   "metadata": {},
   "outputs": [],
   "source": [
    "10. What is difference between the list methods append() and insert()?\n",
    "Ans - append() method will insert the provided value in the end of the list. however the insert() method will inset the \n",
    "value in the desired position or index of the list."
   ]
  },
  {
   "cell_type": "code",
   "execution_count": null,
   "id": "ae248e9d",
   "metadata": {},
   "outputs": [],
   "source": [
    "11. What are the two methods for removing items from a list?\n",
    "Ans- pop() and remove() can remove the items from a list."
   ]
  },
  {
   "cell_type": "code",
   "execution_count": null,
   "id": "d44920ee",
   "metadata": {},
   "outputs": [],
   "source": [
    "12. Describe how list values and string values are identical.\n",
    "Ans - every characters of a string can be called as elements of the list. Both are parsing from index 0 till the last\n",
    "element in sequences."
   ]
  },
  {
   "cell_type": "code",
   "execution_count": null,
   "id": "e3050ecb",
   "metadata": {},
   "outputs": [],
   "source": [
    "13. What's the difference between tuples and lists?\n",
    "Ans - The key difference between the tuples and lists is that while the tuples are immutable objects the lists are \n",
    "mutable. This means that tuples cannot be changed while the lists can be modified.\n",
    "And another difference is the we have define the list within [] and for tuples we have to write ()."
   ]
  },
  {
   "cell_type": "code",
   "execution_count": null,
   "id": "2536ab3d",
   "metadata": {},
   "outputs": [],
   "source": [
    "14. How do you type a tuple value that only contains the integer 42?\n",
    "Ans -we are writing the tuples using parentheses. however since we have to only write 42 it will be trated as integer. \n",
    "Hence we must add comma after 42 i.e. (42,)\n"
   ]
  },
  {
   "cell_type": "code",
   "execution_count": null,
   "id": "bb1ffc78",
   "metadata": {},
   "outputs": [],
   "source": [
    "15. How do you get a list value's tuple form? How do you get a tuple value's list form?\n",
    "Ans -  we can type cast a tuple from a list and vise versa.\n",
    "lets a t1 is a tuple then we can write list(t1) and it will become a list. Similarly lets say l1 is a list and we can\n",
    "write tuple(l1) and it will become a tuple."
   ]
  },
  {
   "cell_type": "code",
   "execution_count": null,
   "id": "8f096688",
   "metadata": {},
   "outputs": [],
   "source": [
    "16. Variables that \"contain\" list values are not necessarily lists themselves. Instead, what do they contain?\n",
    "Ans - Instead they can be a tuple or also they can be a dictionary."
   ]
  },
  {
   "cell_type": "code",
   "execution_count": null,
   "id": "4e819bd9",
   "metadata": {},
   "outputs": [],
   "source": [
    "17. How do you distinguish between copy.copy() and copy.deepcopy()?\n",
    "Ans - copy.copy() is also known as shallow copy. When we use shallow copy then the memory location of the variable is \n",
    "different however the memory location of the inner elements will be same.\n",
    "\n",
    "however in the copy.deepcopy() the memory location of the both variable and the inner elements will be different."
   ]
  },
  {
   "cell_type": "code",
   "execution_count": null,
   "id": "7716d7ee",
   "metadata": {},
   "outputs": [],
   "source": []
  },
  {
   "cell_type": "code",
   "execution_count": null,
   "id": "959b5551",
   "metadata": {},
   "outputs": [],
   "source": []
  }
 ],
 "metadata": {
  "kernelspec": {
   "display_name": "Python 3",
   "language": "python",
   "name": "python3"
  },
  "language_info": {
   "codemirror_mode": {
    "name": "ipython",
    "version": 3
   },
   "file_extension": ".py",
   "mimetype": "text/x-python",
   "name": "python",
   "nbconvert_exporter": "python",
   "pygments_lexer": "ipython3",
   "version": "3.8.8"
  }
 },
 "nbformat": 4,
 "nbformat_minor": 5
}
