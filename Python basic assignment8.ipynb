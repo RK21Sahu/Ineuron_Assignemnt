{
 "cells": [
  {
   "cell_type": "code",
   "execution_count": null,
   "id": "cf0e92e7",
   "metadata": {},
   "outputs": [],
   "source": [
    "1. Is the Python Standard Library included with PyInputPlus?\n",
    "Ans - not PyInputPlus is not included in the Python Standard Library.\n"
   ]
  },
  {
   "cell_type": "code",
   "execution_count": null,
   "id": "1fa4fb69",
   "metadata": {},
   "outputs": [],
   "source": [
    "2. Why is PyInputPlus commonly imported with import pyinputplus as pypi?\n",
    "Ans -  if we import pyinputplus as pypi then pypi will be the alias name of pyinputplus and w ehave use this shorted name \n",
    "whne we will use the module."
   ]
  },
  {
   "cell_type": "code",
   "execution_count": null,
   "id": "1088193f",
   "metadata": {},
   "outputs": [],
   "source": [
    "3. How do you distinguish between inputInt() and inputFloat()?\n",
    "Ans - Both of them have similar features like they take an input along with additional parameters like min, max as well as \n",
    "greater than and less than.\n",
    "However inputInt() function will take input as a intiger and returns an intiger. inputFloat() will take input as float and \n",
    "returna a float. \n"
   ]
  },
  {
   "cell_type": "code",
   "execution_count": null,
   "id": "239fcada",
   "metadata": {},
   "outputs": [],
   "source": [
    "4. Using PyInputPlus, how do you ensure that the user enters a whole number between 0 and 99?\n",
    "Ans - We can use the inbuild method inputInt() with additional parameter like min=0 and less than 100\n",
    "\n",
    "inp = pyip.inputInt(prompt = \"Enter an Integer... \",\n",
    "                    min = 0, lessThan = 100 )\n",
    "\n",
    "however if you want the number excluding 0 and 99 then the we set the min=1 and lessThan=99 "
   ]
  },
  {
   "cell_type": "code",
   "execution_count": null,
   "id": "e3ce8659",
   "metadata": {},
   "outputs": [],
   "source": [
    "5. What is transferred to the keyword arguments allowRegexes and blockRegexes?\n",
    "Ans - \n",
    "if we provide any regex as keyword arguments allowRegexes in PyInputPlus input then it will allow the data those are \n",
    "maching partten of the regex.\n",
    "Similarly we can use blockRegexes keyword arguments to block the inputs\n",
    "Ex:\n",
    "    inp = pyip.inputInt(allowRegexes=[r'[A-Z]+'])\n",
    "    \n",
    "even we can allow charaters in the inputInt() method with help of allowRegexes keyword agruments"
   ]
  },
  {
   "cell_type": "code",
   "execution_count": null,
   "id": "e1a963a8",
   "metadata": {},
   "outputs": [],
   "source": [
    "6. If a blank input is entered three times, what does inputStr(limit=3) do?\n",
    "\n",
    "Ans - if we enter blank input three times then inputStr(limit=3) will throw \"RetryLimitException\"/"
   ]
  },
  {
   "cell_type": "code",
   "execution_count": null,
   "id": "d290758e",
   "metadata": {},
   "outputs": [],
   "source": [
    "7. If blank input is entered three times, what does inputStr(limit=3, default='hello') do?\n",
    "Ans -  in this case it will return the defult value 'hello'"
   ]
  },
  {
   "cell_type": "code",
   "execution_count": null,
   "id": "4cd50e91",
   "metadata": {},
   "outputs": [],
   "source": []
  },
  {
   "cell_type": "code",
   "execution_count": null,
   "id": "19d22224",
   "metadata": {},
   "outputs": [],
   "source": []
  }
 ],
 "metadata": {
  "kernelspec": {
   "display_name": "Python 3",
   "language": "python",
   "name": "python3"
  },
  "language_info": {
   "codemirror_mode": {
    "name": "ipython",
    "version": 3
   },
   "file_extension": ".py",
   "mimetype": "text/x-python",
   "name": "python",
   "nbconvert_exporter": "python",
   "pygments_lexer": "ipython3",
   "version": "3.8.8"
  }
 },
 "nbformat": 4,
 "nbformat_minor": 5
}
