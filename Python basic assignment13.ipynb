{
 "cells": [
  {
   "cell_type": "code",
   "execution_count": null,
   "id": "9ecabfb0",
   "metadata": {},
   "outputs": [],
   "source": [
    "1. What advantages do Excel spreadsheets have over CSV spreadsheets?\n",
    "Ans - Excel spreadsheets is more superior compare to CSV. Excel can provide add-in features.\n",
    "CSV file can't perform operations on data while Excel can perform operations on the data."
   ]
  },
  {
   "cell_type": "code",
   "execution_count": null,
   "id": "0fad37fe",
   "metadata": {},
   "outputs": [],
   "source": [
    "2.What do you pass to csv.reader() and csv.writer() to create reader and writer objects?\n",
    "Asn - we will provide the csv file in read mode or write mode and we can provide the file object in the \n",
    "csv.reader() and csv.writer() as a argument to create reader and writer objects."
   ]
  },
  {
   "cell_type": "code",
   "execution_count": null,
   "id": "69a6bf5d",
   "metadata": {},
   "outputs": [],
   "source": [
    "3. What modes do File objects for reader and writer objects need to be opened in?\n",
    "Ans -  For reader object file object should be opnned in read mode i.e. 'r'.\n",
    "For writer object file object should be opnned in write mode i.e. 'w'."
   ]
  },
  {
   "cell_type": "code",
   "execution_count": null,
   "id": "4a6c0a69",
   "metadata": {},
   "outputs": [],
   "source": [
    "4. What method takes a list argument and writes it to a CSV file?\n",
    "Ans - writerow() method takes a list of objects and writes into a csv file."
   ]
  },
  {
   "cell_type": "code",
   "execution_count": null,
   "id": "120094e0",
   "metadata": {},
   "outputs": [],
   "source": [
    "5. What do the keyword arguments delimiter and line terminator do?\n",
    "Ans - line terminator is a charater that comes at end of the row. be defuilt it will be \\n. however we can change it as \n",
    "per our requirement.\n",
    "\n",
    "delimiter - delimeter is a character which will spearate tow columns.\n"
   ]
  },
  {
   "cell_type": "code",
   "execution_count": null,
   "id": "54ea6ff3",
   "metadata": {},
   "outputs": [],
   "source": [
    "6. What function takes a string of JSON data and returns a Python data structure?\n",
    "Ans - load() method takes a string of JSON data and returns a Python data structure.\n",
    "example: jason.load(fileobj)"
   ]
  },
  {
   "cell_type": "code",
   "execution_count": null,
   "id": "6d9cd8f0",
   "metadata": {},
   "outputs": [],
   "source": [
    "7. What function takes a Python data structure and returns a string of JSON data?\n",
    "Ans - dumps() method takes Python data structure and returns a string of JSON data.\n",
    "example: jason.dumps(fileobj)"
   ]
  },
  {
   "cell_type": "code",
   "execution_count": null,
   "id": "61a0b4d7",
   "metadata": {},
   "outputs": [],
   "source": []
  },
  {
   "cell_type": "code",
   "execution_count": null,
   "id": "08062605",
   "metadata": {},
   "outputs": [],
   "source": []
  },
  {
   "cell_type": "code",
   "execution_count": null,
   "id": "46c190ab",
   "metadata": {},
   "outputs": [],
   "source": []
  }
 ],
 "metadata": {
  "kernelspec": {
   "display_name": "Python 3",
   "language": "python",
   "name": "python3"
  },
  "language_info": {
   "codemirror_mode": {
    "name": "ipython",
    "version": 3
   },
   "file_extension": ".py",
   "mimetype": "text/x-python",
   "name": "python",
   "nbconvert_exporter": "python",
   "pygments_lexer": "ipython3",
   "version": "3.8.8"
  }
 },
 "nbformat": 4,
 "nbformat_minor": 5
}
