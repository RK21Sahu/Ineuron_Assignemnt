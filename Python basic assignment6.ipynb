{
 "cells": [
  {
   "cell_type": "code",
   "execution_count": null,
   "id": "8a7b484a",
   "metadata": {},
   "outputs": [],
   "source": [
    "1. What are escape characters, and how do you use them?\n",
    "Ans - The backslash \"\\\"  character is called as escape  character. it used to repressent certain whitespace charater \n",
    "along with t,n and r.\n"
   ]
  },
  {
   "cell_type": "code",
   "execution_count": null,
   "id": "b737b98f",
   "metadata": {},
   "outputs": [],
   "source": [
    "2. What do the escape characters n and t stand for?\n",
    "Ans - \\n is used provide new line and \\t is is uded to provide tab."
   ]
  },
  {
   "cell_type": "code",
   "execution_count": null,
   "id": "7dc47626",
   "metadata": {},
   "outputs": [],
   "source": [
    "3. What is the way to include backslash characters in a string?\n",
    "Ans - to include a backslash characters in a string, you have write double blackslash i.e. \\\\.\n"
   ]
  },
  {
   "cell_type": "code",
   "execution_count": null,
   "id": "528621d2",
   "metadata": {},
   "outputs": [],
   "source": [
    "4. The string \"Howl's Moving Castle\" is a correct value. Why isn't the single quote character in the word Howl's\n",
    "not escaped a problem?\n",
    "Ans - We can repressent a string within the single quote character or within the double quote character. Since we have \n",
    "enclosed the \"Howl's Moving Castle\" in double quote. hence the signle quote character is not a problem."
   ]
  },
  {
   "cell_type": "code",
   "execution_count": null,
   "id": "a10e7c28",
   "metadata": {},
   "outputs": [],
   "source": [
    "5. How do you write a string of newlines if you don't want to use the n character?\n",
    "Ans - we can write end=\"\" in the print statement\n"
   ]
  },
  {
   "cell_type": "code",
   "execution_count": null,
   "id": "a132ee3d",
   "metadata": {},
   "outputs": [],
   "source": [
    "6. What are the values of the given expressions?\n",
    "'Hello, world!'[1]\n",
    "'Hello, world!'[0:5]\n",
    "'Hello, world!'[:5]\n",
    "'Hello, world!'[3:]\n",
    "\n",
    "Ans - \n",
    "'Hello, world!'[1]   = e\n",
    "'Hello, world!'[0:5] = Hello\n",
    "'Hello, world!'[:5]  = Hello\n",
    "'Hello, world!'[3:]  = lo, world!"
   ]
  },
  {
   "cell_type": "code",
   "execution_count": null,
   "id": "a2b9c61b",
   "metadata": {},
   "outputs": [],
   "source": [
    "7. What are the values of the following expressions?\n",
    "'Hello'.upper()\n",
    "'Hello'.upper().isupper()\n",
    "'Hello'.upper().lower()\n",
    "\n",
    "Ans - \n",
    "'Hello'.upper() = HELLO\n",
    "'Hello'.upper().isupper() = True\n",
    "'Hello'.upper().lower() = hello\n"
   ]
  },
  {
   "cell_type": "code",
   "execution_count": null,
   "id": "08ac3b38",
   "metadata": {},
   "outputs": [],
   "source": [
    "8. What are the values of the following expressions?\n",
    "'Remember, remember, the fifth of July.'.split()\n",
    "'-'.join('There can only one.'.split())\n",
    "\n",
    "Ans - \n",
    "'Remember, remember, the fifth of July.'.split() -  this expression will split the string whereever it encounter with a \n",
    "whitespace. and the output will be \n",
    "['Remember,', 'remember,', 'the', 'fifth', 'of', 'July.']\n",
    "\n",
    "'-'.join('There can only one.'.split()) - as above it will split based on white space then join the words with hyphen and\n",
    "the otput will be :\n",
    "'There-can-only-one.'"
   ]
  },
  {
   "cell_type": "code",
   "execution_count": null,
   "id": "9ee1c88a",
   "metadata": {},
   "outputs": [],
   "source": [
    "9. What are the methods for right-justifying, left-justifying, and centering a string?\n",
    "Ans - The methods for right-justifying, left-justifying, and centering a string are rjust(), ljust() and center() \n",
    "respectively."
   ]
  },
  {
   "cell_type": "code",
   "execution_count": null,
   "id": "021641bb",
   "metadata": {},
   "outputs": [],
   "source": [
    "10. What is the best way to remove whitespace characters from the start or end?\n",
    "Ans - its recommended to use the strip method to rmeove the white spaces from the start and end.\n",
    "st=\"  afaqwedrqfadgadg   \"\n",
    "st.strip()\n",
    "\n",
    "and the output will be-\n",
    "\n",
    "'afaqwedrqfadgadg'\n"
   ]
  },
  {
   "cell_type": "code",
   "execution_count": null,
   "id": "ca45a9fa",
   "metadata": {},
   "outputs": [],
   "source": []
  },
  {
   "cell_type": "code",
   "execution_count": null,
   "id": "e31240b6",
   "metadata": {},
   "outputs": [],
   "source": []
  },
  {
   "cell_type": "code",
   "execution_count": null,
   "id": "97a95087",
   "metadata": {},
   "outputs": [],
   "source": []
  },
  {
   "cell_type": "code",
   "execution_count": null,
   "id": "9874d8fa",
   "metadata": {},
   "outputs": [],
   "source": []
  },
  {
   "cell_type": "code",
   "execution_count": null,
   "id": "2393f236",
   "metadata": {},
   "outputs": [],
   "source": []
  }
 ],
 "metadata": {
  "kernelspec": {
   "display_name": "Python 3",
   "language": "python",
   "name": "python3"
  },
  "language_info": {
   "codemirror_mode": {
    "name": "ipython",
    "version": 3
   },
   "file_extension": ".py",
   "mimetype": "text/x-python",
   "name": "python",
   "nbconvert_exporter": "python",
   "pygments_lexer": "ipython3",
   "version": "3.8.8"
  }
 },
 "nbformat": 4,
 "nbformat_minor": 5
}
