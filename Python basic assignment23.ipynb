{
 "cells": [
  {
   "cell_type": "code",
   "execution_count": null,
   "id": "6fef239f",
   "metadata": {},
   "outputs": [],
   "source": [
    "1. What is the result of the code, and why?\n",
    ">>> def func(a, b=6, c=8):\n",
    "print(a, b, c)\n",
    ">>> func(1, 2)\n",
    "\n",
    "Ans - \n",
    "the output for the above code will be as mentioned below.\n",
    "1 2 8\n",
    "\n",
    "if we are not passing the value for the arguments b and c then bedfult it will take the value as 6 and 8.\n",
    "However here we have pass the value for b=2 but not for c.\n",
    "hence it will print a=1, b=2 and c=8 i.e. 1 2 8"
   ]
  },
  {
   "cell_type": "code",
   "execution_count": null,
   "id": "fb9f9f51",
   "metadata": {},
   "outputs": [],
   "source": [
    "2. What is the result of this code, and why?\n",
    ">>> def func(a, b, c=5):\n",
    "print(a, b, c)\n",
    ">>> func(1, c=3, b=2)\n",
    "\n",
    "Ans - \n",
    "the output for the above code will be as mentioned below.\n",
    "1 2 3\n",
    "\n",
    "In this case the order of the arguments are changed while calling the function. However we passed the value with \n",
    "assignment. Hence it will take the value as a=1, b=2 and c=3 i.e. 1 2 3"
   ]
  },
  {
   "cell_type": "code",
   "execution_count": null,
   "id": "0748b10c",
   "metadata": {},
   "outputs": [],
   "source": [
    "3. How about this code: what is its result, and why?\n",
    ">>> def func(a, *pargs):\n",
    "print(a, pargs)\n",
    ">>> func(1, 2, 3)\n",
    "\n",
    "Ans - \n",
    "the output for the above code will be as mentioned below.\n",
    "1 (2, 3)\n",
    "\n",
    "Hence a=1 and for pargs 2 and 3 will be passed as arguments. hence it will be printed as 1 (2,3).\n"
   ]
  },
  {
   "cell_type": "code",
   "execution_count": null,
   "id": "b7c1e036",
   "metadata": {},
   "outputs": [],
   "source": [
    "4. What does this code print, and why?\n",
    ">>> def func(a, **kargs):\n",
    "print(a, kargs)\n",
    ">>> func(a=1, c=3, b=2)\n",
    "\n",
    "Ans - \n",
    "the output for the above code will be as mentioned below.\n",
    "1 (2, 3)\n",
    "\n",
    "here 1 will be passed for a and b=2, c=3 will be passed for **kargs. Hnece the output will be 1 (2, 3)."
   ]
  },
  {
   "cell_type": "code",
   "execution_count": null,
   "id": "58faec70",
   "metadata": {},
   "outputs": [],
   "source": [
    "5. What gets printed by this, and explain?\n",
    ">>> def func(a, b, c=8, d=5): print(a, b, c, d)\n",
    ">>> func(1, *(5, 6))\n",
    "\n",
    "Ans - \n",
    "the output for the above code will be as mentioned below.\n",
    "1 5 6 5\n",
    "\n",
    "Hence for a=1, b and c will be assigned as 5 and 6 respectively and the defult value for d is 5.\n",
    "hence it will print 1 5 6 5"
   ]
  },
  {
   "cell_type": "code",
   "execution_count": null,
   "id": "5c7ba430",
   "metadata": {},
   "outputs": [],
   "source": [
    "6. what is the result of this, and explain?\n",
    ">>> def func(a, b, c): a = 2; b[0] = 'x'; c['a'] = 'y'\n",
    ">>> l=1; m=[1]; n={'a':0}\n",
    ">>> func(l, m, n)\n",
    ">>> l, m, n\n",
    "\n",
    "Ans - \n",
    "the output for the above code will be as mentioned below.\n",
    "(1, ['x'], {'a': 'y'})\n",
    "\n",
    "value of l=1 will be asisgned for a, however value of b and c will be overwrite by 'x' in list and 'y' in dictionary.\n",
    "when it will return the value as (1, ['x'], {'a': 'y'})"
   ]
  },
  {
   "cell_type": "code",
   "execution_count": null,
   "id": "d943a82b",
   "metadata": {},
   "outputs": [],
   "source": []
  },
  {
   "cell_type": "code",
   "execution_count": null,
   "id": "74719485",
   "metadata": {},
   "outputs": [],
   "source": []
  }
 ],
 "metadata": {
  "kernelspec": {
   "display_name": "Python 3",
   "language": "python",
   "name": "python3"
  },
  "language_info": {
   "codemirror_mode": {
    "name": "ipython",
    "version": 3
   },
   "file_extension": ".py",
   "mimetype": "text/x-python",
   "name": "python",
   "nbconvert_exporter": "python",
   "pygments_lexer": "ipython3",
   "version": "3.8.8"
  }
 },
 "nbformat": 4,
 "nbformat_minor": 5
}
