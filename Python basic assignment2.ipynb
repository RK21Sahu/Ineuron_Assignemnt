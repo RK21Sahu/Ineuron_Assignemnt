{
 "cells": [
  {
   "cell_type": "raw",
   "id": "2c91de4c",
   "metadata": {},
   "source": [
    "1.What are the two values of the Boolean data type? How do you write them?\n",
    "\n",
    "Ans - True and False are the two values we can write in a Boolean data type."
   ]
  },
  {
   "cell_type": "raw",
   "id": "6ea92f90",
   "metadata": {},
   "source": [
    "2. What are the three different types of Boolean operators?\n",
    "Ans - We can use and, or and not operators for Boolean data type."
   ]
  },
  {
   "cell_type": "raw",
   "id": "af035796",
   "metadata": {},
   "source": [
    "3. Make a list of each Boolean operator's truth tables (i.e. every possible combination of Boolean values for the operator and what it evaluate ).\n",
    "\n",
    "Ans - \n",
    "True and True = True\n",
    "True and False = False\n",
    "False and True = False\n",
    "False and False = False\n",
    "\n",
    "True or True = True\n",
    "True or False = True\n",
    "False or True = True\n",
    "False or False = False\n",
    "\n",
    "not(True)=False\n",
    "not(False)=True"
   ]
  },
  {
   "cell_type": "raw",
   "id": "6a744ff8",
   "metadata": {},
   "source": [
    "4. What are the values of the following expressions?\n",
    "(5 > 4) and (3 == 5)\n",
    "not (5 > 4)\n",
    "(5 > 4) or (3 == 5)\n",
    "not ((5 > 4) or (3 == 5))\n",
    "(True and True) and (True == False)\n",
    "(not False) or (not True)\n",
    "\n",
    "Ans -\n",
    "\n",
    "(5 > 4) and (3 == 5) - False\n",
    "not (5 > 4) - False\n",
    "(5 > 4) or (3 == 5) - True\n",
    "not ((5 > 4) or (3 == 5)) - False\n",
    "(True and True) and (True == False) - False\n",
    "(not False) or (not True) - True\n"
   ]
  },
  {
   "cell_type": "raw",
   "id": "773bcf2a",
   "metadata": {},
   "source": [
    "5. What are the six comparison operators?\n",
    "Ans -\n",
    "less than ( < )\n",
    "less than or equal to ( <= )\n",
    "greater than ( > )\n",
    "greater than or equal to ( >= )\n",
    "equal to ( == )\n",
    "not equal to ( != )\n"
   ]
  },
  {
   "cell_type": "raw",
   "id": "be770831",
   "metadata": {},
   "source": [
    "6. How do you tell the difference between the equal to and assignment operators?Describe a condition and when you would use one.\n",
    "\n",
    "Ans -\n",
    "An equal to operation will return a Boolean value i.e. True or False after comparing the two operands.\n",
    "example:\n",
    "3==5\n",
    "the above expression will written False\n",
    "\n",
    "A statement will assign the values of right hand side to its left hand side variable.\n",
    "a=10\n",
    "The above statement will assign the 10 value to a."
   ]
  },
  {
   "cell_type": "raw",
   "id": "6b81b4db",
   "metadata": {},
   "source": [
    "7. Identify the three blocks in this code:\n",
    "spam = 0\n",
    "if spam == 10:\n",
    "print('eggs')\n",
    "if spam > 5:\n",
    "print('bacon')\n",
    "else:\n",
    "print('ham')\n",
    "print('spam')\n",
    "print('spam')\n",
    "\n",
    "Ans -\n",
    "next line character separates the block of the below code.\n",
    "\n",
    "spam = 0\n",
    "if spam == 10:\n",
    "    print('eggs')\n",
    "\n",
    "\n",
    "if spam > 5:\n",
    "    print('bacon')\n",
    "\n",
    "else:\n",
    "    print('ham')\n",
    "    print('spam')\n",
    "    print('spam')\n"
   ]
  },
  {
   "cell_type": "raw",
   "id": "7051b961",
   "metadata": {},
   "source": [
    "8. Write code that prints Hello if 1 is stored in spam, prints Howdy if 2 is stored in spam, and prints Greetings! if anything else is stored in spam.\n",
    "\n",
    "Ans- \n",
    "\n",
    "if spam==1:\n",
    "    print(\"Hello\")\n",
    "elif spam==2:\n",
    "    print(\"Howdy\")\n",
    "else:\n",
    "    print(\"Greetings!\")"
   ]
  },
  {
   "cell_type": "raw",
   "id": "5002247e",
   "metadata": {},
   "source": [
    "9.If your programme is stuck in an endless loop, what keys you’ll press?\n",
    "\n",
    "Ans - \n",
    "You can stop an infinite loop with CTRL + C. Also we can interrupt kernel by pressing CTRL + Z."
   ]
  },
  {
   "cell_type": "raw",
   "id": "9a255960",
   "metadata": {},
   "source": [
    "10. How can you tell the difference between break and continue?\n",
    "\n",
    "Ans-  break - it will break the loop and the control will come out of the loop.\n",
    "continue - it will skip the current itiration of the loop and will continue for the next itiration.\n",
    "\n",
    "for i in range(4):\n",
    "    if i==2:\n",
    "        break\n",
    "    print(i)\n",
    " \n",
    "this code will give the output as:\n",
    "0\n",
    "1\n",
    "\n",
    "for i in range(4):\n",
    "    if i==2:\n",
    "        continue\n",
    "    print(i)\n",
    "\n",
    "this code will give the output as:\n",
    "0\n",
    "1\n",
    "3\n"
   ]
  },
  {
   "cell_type": "raw",
   "id": "4c9464c4",
   "metadata": {},
   "source": [
    "11. In a for loop, what is the difference between range(10), range(0, 10), and range(0, 10, 1)?\n",
    "\n",
    "Ans - all these three option will work same and will itirate from 0 to 9 be setp=1.\n"
   ]
  },
  {
   "cell_type": "raw",
   "id": "2fa98073",
   "metadata": {},
   "source": [
    "12. Write a short program that prints the numbers 1 to 10 using a for loop. Then write an equivalent program that prints the numbers 1 to 10 using a while loop.\n",
    "\n",
    "Ans- \n",
    "\n",
    "for i in range(1, 11):\n",
    "    print(i)\n",
    "    \n",
    " i=1\n",
    "while i<=10:\n",
    "    print(i)\n",
    "    i=i+1"
   ]
  },
  {
   "cell_type": "raw",
   "id": "f81f18e2",
   "metadata": {},
   "source": [
    "13. If you had a function named bacon() inside a module named spam, how would you call it after importing spam?\n",
    "\n",
    "ans - \n",
    "spam.bacon()"
   ]
  },
  {
   "cell_type": "code",
   "execution_count": null,
   "id": "cd3a7d2d",
   "metadata": {},
   "outputs": [],
   "source": []
  },
  {
   "cell_type": "code",
   "execution_count": null,
   "id": "f982aecd",
   "metadata": {},
   "outputs": [],
   "source": []
  }
 ],
 "metadata": {
  "kernelspec": {
   "display_name": "Python 3",
   "language": "python",
   "name": "python3"
  },
  "language_info": {
   "codemirror_mode": {
    "name": "ipython",
    "version": 3
   },
   "file_extension": ".py",
   "mimetype": "text/x-python",
   "name": "python",
   "nbconvert_exporter": "python",
   "pygments_lexer": "ipython3",
   "version": "3.8.8"
  }
 },
 "nbformat": 4,
 "nbformat_minor": 5
}
