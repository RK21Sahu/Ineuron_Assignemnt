{
 "cells": [
  {
   "cell_type": "code",
   "execution_count": null,
   "id": "52d46102",
   "metadata": {},
   "outputs": [],
   "source": [
    "1.How many seconds are in an hour? Use the interactive interpreter as a calculator and multiply the number of seconds in a \n",
    "minute (60) by the number of minutes in an hour (also 60).\n",
    "sol. 60 \n",
    "\n",
    "Ans - 60*60\n",
    "3600"
   ]
  },
  {
   "cell_type": "code",
   "execution_count": null,
   "id": "26b015ec",
   "metadata": {},
   "outputs": [],
   "source": [
    "2. Assign the result from the previous task (seconds in an hour) to a variable called seconds_per_hour.\n",
    "Ans -\n",
    "seconds_per_hour = 60*60"
   ]
  },
  {
   "cell_type": "code",
   "execution_count": null,
   "id": "32c15b1d",
   "metadata": {},
   "outputs": [],
   "source": [
    "3. How many seconds do you think there are in a day? Make use of the variables seconds per hour and minutes per hour.\n",
    "Ans -\n",
    "\n",
    "seconds_per_hour*24"
   ]
  },
  {
   "cell_type": "code",
   "execution_count": null,
   "id": "9d8f5a7d",
   "metadata": {},
   "outputs": [],
   "source": [
    "4. Calculate seconds per day again, but this time save the result in a variable called \n",
    "Ans -\n",
    "\n",
    "seconds_per_day = seconds_per_hour*24"
   ]
  },
  {
   "cell_type": "code",
   "execution_count": null,
   "id": "b5873a97",
   "metadata": {},
   "outputs": [],
   "source": [
    "5. Divide seconds_per_day by seconds_per_hour. Use floating-point (/) division.\n",
    "ans -\n",
    "seconds_per_day/seconds_per_hour\n"
   ]
  },
  {
   "cell_type": "code",
   "execution_count": null,
   "id": "5b117aa4",
   "metadata": {},
   "outputs": [],
   "source": [
    "6. Divide seconds_per_day by seconds_per_hour, using integer (//) division. Did this number agree with \n",
    "the floating-point value from the previous question, aside from the final .0?\n",
    "Ans -\n",
    "seconds_per_day//seconds_per_hour\n",
    "Yes this value match with the floating point value aside from the .0.\n"
   ]
  },
  {
   "cell_type": "code",
   "execution_count": null,
   "id": "512374ee",
   "metadata": {},
   "outputs": [],
   "source": [
    "7. Write a generator, genPrimes, that returns the sequence of prime numbers on successive calls to its\n",
    "next() method: 2, 3, 5, 7, 11, ...\n",
    "Ans -\n",
    "\n",
    "def prime(x, y):\n",
    "    prime_list = []\n",
    "    for i in range(x, y):\n",
    "        if i == 0 or i == 1:\n",
    "            continue\n",
    "        else:\n",
    "            for j in range(2, int(i/2)+1):\n",
    "                if i % j == 0:\n",
    "                    break\n",
    "            else:\n",
    "                prime_list.append(i)\n",
    "    return prime_list\n",
    "lst=prime(2, 50)\n",
    "lst=iter(lst)\n",
    "\n",
    "next(lst)\n",
    "next(lst)\n",
    "next(lst)\n",
    "next(lst)\n",
    "...\n",
    "\n",
    "can provide bigger number instead of 50 to generate mote prime numbers."
   ]
  },
  {
   "cell_type": "code",
   "execution_count": null,
   "id": "cf0e091c",
   "metadata": {},
   "outputs": [],
   "source": []
  }
 ],
 "metadata": {
  "kernelspec": {
   "display_name": "Python 3",
   "language": "python",
   "name": "python3"
  },
  "language_info": {
   "codemirror_mode": {
    "name": "ipython",
    "version": 3
   },
   "file_extension": ".py",
   "mimetype": "text/x-python",
   "name": "python",
   "nbconvert_exporter": "python",
   "pygments_lexer": "ipython3",
   "version": "3.8.8"
  }
 },
 "nbformat": 4,
 "nbformat_minor": 5
}
