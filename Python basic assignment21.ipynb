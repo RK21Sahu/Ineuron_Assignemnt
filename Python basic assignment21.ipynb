{
 "cells": [
  {
   "cell_type": "code",
   "execution_count": null,
   "id": "ef14f519",
   "metadata": {},
   "outputs": [],
   "source": [
    "1. Add the current date to the text file today.txt as a string.\n",
    "\n",
    "Ans - \n",
    "import os\n",
    "import datetime\n",
    "f=open(\"today.txt\",\"w\")\n",
    "st = datetime.datetime.now()\n",
    "f.write(st.strftime(\"%d %B %Y\"))\n",
    "\n"
   ]
  },
  {
   "cell_type": "code",
   "execution_count": null,
   "id": "27db3091",
   "metadata": {},
   "outputs": [],
   "source": [
    "2. Read the text file today.txt into the string today_string\n",
    "Asns - \n",
    "f=open(\"today.txt\",\"r\")\n",
    "today_string = f.read()\n",
    "print(today_string)\n",
    "\n",
    "output - 10 March 2022"
   ]
  },
  {
   "cell_type": "code",
   "execution_count": null,
   "id": "be76cfa1",
   "metadata": {},
   "outputs": [],
   "source": [
    "3. Parse the date from today_string.\n",
    "Ans - \n",
    "for i in today_string:\n",
    "    print(i)\n"
   ]
  },
  {
   "cell_type": "code",
   "execution_count": null,
   "id": "5edc5a8a",
   "metadata": {},
   "outputs": [],
   "source": [
    "4. List the files in your current directory\n",
    "Ans - os.listdir()\n",
    "\n",
    "output:\n",
    "['.conda',\n",
    " '.condarc',\n",
    " '.continuum',\n",
    " '.idlerc',\n",
    " '.ipynb_checkpoints',\n",
    " '.ipython',\n",
    " '.jupyter',\n",
    " '.kivy']"
   ]
  },
  {
   "cell_type": "code",
   "execution_count": null,
   "id": "9508716d",
   "metadata": {},
   "outputs": [],
   "source": [
    "5. Create a list of all of the files in your parent directory (minimum five files should be available).\n",
    "Ans - \n",
    "path = os.pardir\n",
    "os.chdir(path)\n",
    "os.listdir()\n",
    "\n",
    "output - \n",
    "['All Users', 'Default', 'Default User', 'desktop.ini', 'Hamza', 'Public']"
   ]
  },
  {
   "cell_type": "code",
   "execution_count": null,
   "id": "0f6e56d4",
   "metadata": {},
   "outputs": [],
   "source": [
    "6. Use multiprocessing to create three separate processes. Make each one wait a random number of seconds between one \n",
    "and five, print the current time, and then exit.\n",
    "\n",
    "Ans - \n",
    "import multiprocessing\n",
    "import random\n",
    "import time\n",
    "\n",
    "def ctime1():\n",
    "    print(datetime.datetime.now())\n",
    "\n",
    "def ctime2():\n",
    "    print(datetime.datetime.now())\n",
    "\n",
    "def ctime3():\n",
    "    print(datetime.datetime.now())\n",
    "    \n",
    "if __name__ == \"__main__\":\n",
    "    p1 = multiprocessing.Process(target=ctime1)\n",
    "    p2 = multiprocessing.Process(target=ctime2)\n",
    "    p3 = multiprocessing.Process(target=ctime3)\n",
    "    p1.start()\n",
    "    time. sleep(random.randrange(1,5))\n",
    "    p2.start()\n",
    "    time. sleep(random.randrange(1,5))\n",
    "    p3.start()\n",
    "    time. sleep(random.randrange(1,5))"
   ]
  },
  {
   "cell_type": "code",
   "execution_count": null,
   "id": "4370a1d8",
   "metadata": {},
   "outputs": [],
   "source": [
    "7. Create a date object of your day of birth.\n",
    "Ans - \n",
    "import datetime\n",
    "x = datetime.datetime(1990, 3, 15)"
   ]
  },
  {
   "cell_type": "code",
   "execution_count": null,
   "id": "698dbaf7",
   "metadata": {},
   "outputs": [],
   "source": [
    "8. What day of the week was your day of birth?\n",
    "Ans \n",
    "x.weekday()\n",
    "\n",
    "output - 3\n"
   ]
  },
  {
   "cell_type": "code",
   "execution_count": null,
   "id": "d51d6e6f",
   "metadata": {},
   "outputs": [],
   "source": [
    "9. When will you be (or when were you) 10,000 days old?\n",
    "\n",
    "day10000 =x + datetime.timedelta(days=10000)\n",
    "print(day10000)\n",
    "\n",
    "output  - 2017-07-31 00:00:00\n"
   ]
  },
  {
   "cell_type": "code",
   "execution_count": null,
   "id": "9f601444",
   "metadata": {},
   "outputs": [],
   "source": []
  },
  {
   "cell_type": "code",
   "execution_count": null,
   "id": "ab1f1857",
   "metadata": {},
   "outputs": [],
   "source": []
  }
 ],
 "metadata": {
  "kernelspec": {
   "display_name": "Python 3",
   "language": "python",
   "name": "python3"
  },
  "language_info": {
   "codemirror_mode": {
    "name": "ipython",
    "version": 3
   },
   "file_extension": ".py",
   "mimetype": "text/x-python",
   "name": "python",
   "nbconvert_exporter": "python",
   "pygments_lexer": "ipython3",
   "version": "3.8.8"
  }
 },
 "nbformat": 4,
 "nbformat_minor": 5
}
