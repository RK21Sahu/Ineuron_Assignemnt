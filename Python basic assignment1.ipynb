{
 "cells": [
  {
   "cell_type": "code",
   "execution_count": null,
   "id": "24592485",
   "metadata": {},
   "outputs": [],
   "source": [
    "1. In the below elements which of them are values or an expression? eg:- values can be integer or string and expressions will be mathematical operators.\n",
    "*  = operators\n",
    "'hello' = Value\n",
    "-87.8 = Value\n",
    "- = operators\n",
    "/ = operators\n",
    "+ = operators\n",
    "6  = Value\n",
    "\n"
   ]
  },
  {
   "cell_type": "code",
   "execution_count": null,
   "id": "aab87444",
   "metadata": {},
   "outputs": [],
   "source": [
    "2. What is the difference between string and variable?\n",
    "Ans - \n",
    "Variable is a name of the location with symbolic name. However string is just a data type. Python automatically identify the type of the variable. If anything written in double quote or single quote then python will be treated them as string data type."
   ]
  },
  {
   "cell_type": "code",
   "execution_count": null,
   "id": "99b7d04d",
   "metadata": {},
   "outputs": [],
   "source": [
    "3. Describe three different data types.\n",
    "Ans - \n",
    "Python have multiple data type. out of them three different data types are mentioned below.\n",
    "integer/int data type - all integer/ positive and negative numbers  will be fall under integer  data type. if we are storing a=10 then a will be integer data type variable.\n",
    "Float - it will store the decimal data.\n",
    "String - If anything written in double quote or single quote then python will be treated them as string data type.\n"
   ]
  },
  {
   "cell_type": "code",
   "execution_count": null,
   "id": "21f62b84",
   "metadata": {},
   "outputs": [],
   "source": [
    "4. What is an expression made up of? What do all expressions do?\n",
    "\n",
    "Ans - An expression is a combination of operators and operands that is interpreted to produce some other value."
   ]
  },
  {
   "cell_type": "code",
   "execution_count": null,
   "id": "9a475e4f",
   "metadata": {},
   "outputs": [],
   "source": [
    "5. This assignment statements, like spam = 10. What is the difference between an expression and a statement?\n",
    "\n",
    "Ans - In case of assignment or statements we are assigning data to a variable or one variable to another variable. However in case of expression we used to do some operation with the help of operators, which will be evaluated and will produce some other values."
   ]
  },
  {
   "cell_type": "code",
   "execution_count": null,
   "id": "60691749",
   "metadata": {},
   "outputs": [],
   "source": [
    "6. After running the following code, what does the variable bacon contain?\n",
    "bacon = 22\n",
    "bacon + 1\n",
    "\n",
    "Ans- bacon will produce the output as 23\n"
   ]
  },
  {
   "cell_type": "code",
   "execution_count": null,
   "id": "6fa5b589",
   "metadata": {},
   "outputs": [],
   "source": [
    "7. What should the values of the following two terms be?\n",
    "'spam' + 'spamspam'\n",
    "'spam' * 3\n",
    "\n",
    "Ans -  this code will provide the output as 'spamspamspam'"
   ]
  },
  {
   "cell_type": "code",
   "execution_count": null,
   "id": "b33e7344",
   "metadata": {},
   "outputs": [],
   "source": [
    "8. Why is eggs a valid variable name while 100 is invalid?\n",
    "Ans - As per the naming convention, we cannot provide a variable name starts with number. Hence eggs can be a valid variable name while 100 cannot be."
   ]
  },
  {
   "cell_type": "code",
   "execution_count": null,
   "id": "d0c6217a",
   "metadata": {},
   "outputs": [],
   "source": [
    "9. What three functions can be used to get the integer, floating-point number, or string version of a value?\n",
    "Ans - The int() , float() , and str( ) functions will evaluate to get integer, floating-point number, and string versions of the value passed to them."
   ]
  },
  {
   "cell_type": "code",
   "execution_count": null,
   "id": "ee2de2e0",
   "metadata": {},
   "outputs": [],
   "source": [
    "10. Why does this expression cause an error? How can you fix it?\n",
    "'I have eaten ' + 99 + ' burritos.'\n",
    "\n",
    "Ans - Plus operation can be used to conncatinate the string and the same plus operator used to add the numbers. However we cannot use the plus operator for both string and integer at once.\n",
    "\n",
    "We can provide this as below, so that it won't give any error.\n",
    "'I have eaten ' + str(99) + ' burritos.'"
   ]
  },
  {
   "cell_type": "code",
   "execution_count": null,
   "id": "e38f0abc",
   "metadata": {},
   "outputs": [],
   "source": [
    "\n"
   ]
  }
 ],
 "metadata": {
  "kernelspec": {
   "display_name": "Python 3",
   "language": "python",
   "name": "python3"
  },
  "language_info": {
   "codemirror_mode": {
    "name": "ipython",
    "version": 3
   },
   "file_extension": ".py",
   "mimetype": "text/x-python",
   "name": "python",
   "nbconvert_exporter": "python",
   "pygments_lexer": "ipython3",
   "version": "3.8.8"
  }
 },
 "nbformat": 4,
 "nbformat_minor": 5
}
