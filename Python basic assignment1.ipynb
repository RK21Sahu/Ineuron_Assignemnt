{
 "cells": [
  {
   "cell_type": "raw",
   "id": "b3125eaf",
   "metadata": {},
   "source": [
    "1. In the below elements which of them are values or an expression? eg:- values can be integer or string and expressions will be mathematical operators.\n",
    "*  = operators\n",
    "'hello' = Value\n",
    "-87.8 = Value\n",
    "- = operators\n",
    "/ = operators\n",
    "+ = operators\n",
    "6  = Value\n",
    "\n"
   ]
  },
  {
   "cell_type": "raw",
   "id": "5f2f3f78",
   "metadata": {},
   "source": [
    "2. What is the difference between string and variable?\n",
    "Ans - \n",
    "Variable is a name of the location with symbolic name. However string is just a data type. Python automatically identify the type of the variable. If anything written in double quote or single quote then python will be treated them as string data type."
   ]
  },
  {
   "cell_type": "raw",
   "id": "1c48721b",
   "metadata": {},
   "source": [
    "3. Describe three different data types.\n",
    "Ans - \n",
    "Python have multiple data type. out of them three different data types are mentioned below.\n",
    "integer/int data type - all integer/ positive and negative numbers  will be fall under integer  data type. if we are storing a=10 then a will be integer data type variable.\n",
    "Float - it will store the decimal data.\n",
    "String - If anything written in double quote or single quote then python will be treated them as string data type.\n"
   ]
  },
  {
   "cell_type": "raw",
   "id": "2da632ec",
   "metadata": {},
   "source": [
    "4. What is an expression made up of? What do all expressions do?\n",
    "\n",
    "Ans - An expression is a combination of operators and operands that is interpreted to produce some other value."
   ]
  },
  {
   "cell_type": "raw",
   "id": "e971cebf",
   "metadata": {},
   "source": [
    "5. This assignment statements, like spam = 10. What is the difference between an expression and a statement?\n",
    "\n",
    "Ans - In case of assignment or statements we are assigning data to a variable or one variable to another variable. However in case of expression we used to do some operation with the help of operators, which will be evaluated and will produce some other values."
   ]
  },
  {
   "cell_type": "raw",
   "id": "9067532b",
   "metadata": {},
   "source": [
    "6. After running the following code, what does the variable bacon contain?\n",
    "bacon = 22\n",
    "bacon + 1\n",
    "\n",
    "Ans- bacon will produce the output as 23\n"
   ]
  },
  {
   "cell_type": "raw",
   "id": "fde4a8fd",
   "metadata": {},
   "source": [
    "7. What should the values of the following two terms be?\n",
    "'spam' + 'spamspam'\n",
    "'spam' * 3\n",
    "\n",
    "Ans -  this code will provide the output as 'spamspamspam'"
   ]
  },
  {
   "cell_type": "raw",
   "id": "60b16e64",
   "metadata": {},
   "source": [
    "8. Why is eggs a valid variable name while 100 is invalid?\n",
    "Ans - As per the naming convention, we cannot provide a variable name starts with number. Hence eggs can be a valid variable name while 100 cannot be."
   ]
  },
  {
   "cell_type": "raw",
   "id": "51ad6170",
   "metadata": {},
   "source": [
    "9. What three functions can be used to get the integer, floating-point number, or string version of a value?\n",
    "Ans - The int() , float() , and str( ) functions will evaluate to get integer, floating-point number, and string versions of the value passed to them."
   ]
  },
  {
   "cell_type": "raw",
   "id": "d2c5c2ec",
   "metadata": {},
   "source": [
    "10. Why does this expression cause an error? How can you fix it?\n",
    "'I have eaten ' + 99 + ' burritos.'\n",
    "\n",
    "Ans - Plus operation can be used to conncatinate the string and the same plus operator used to add the numbers. However we cannot use the plus operator for both string and integer at once.\n",
    "\n",
    "We can provide this as below, so that it won't give any error.\n",
    "'I have eaten ' + str(99) + ' burritos.'"
   ]
  },
  {
   "cell_type": "code",
   "execution_count": null,
   "id": "c03cfecd",
   "metadata": {},
   "outputs": [],
   "source": [
    "\n"
   ]
  }
 ],
 "metadata": {
  "kernelspec": {
   "display_name": "Python 3",
   "language": "python",
   "name": "python3"
  },
  "language_info": {
   "codemirror_mode": {
    "name": "ipython",
    "version": 3
   },
   "file_extension": ".py",
   "mimetype": "text/x-python",
   "name": "python",
   "nbconvert_exporter": "python",
   "pygments_lexer": "ipython3",
   "version": "3.8.8"
  }
 },
 "nbformat": 4,
 "nbformat_minor": 5
}
